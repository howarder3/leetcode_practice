{
 "cells": [
  {
   "cell_type": "markdown",
   "metadata": {},
   "source": [
    "# Question"
   ]
  },
  {
   "cell_type": "markdown",
   "metadata": {},
   "source": [
    "https://leetcode.com/problems/number-of-islands/"
   ]
  },
  {
   "cell_type": "markdown",
   "metadata": {},
   "source": [
    "# my solution"
   ]
  },
  {
   "cell_type": "code",
   "execution_count": 23,
   "metadata": {
    "ExecuteTime": {
     "end_time": "2019-08-04T06:59:21.519073Z",
     "start_time": "2019-08-04T06:59:21.515855Z"
    }
   },
   "outputs": [],
   "source": [
    "# wrong_ans 35/47\n",
    "# TODO: do you work here\n",
    "# class Solution:\n",
    "#     def numIslands(self, grid):\n",
    "#         \"\"\"\n",
    "#         :type grid: List[List[str]]\n",
    "#         :rtype: int\n",
    "#         \"\"\"\n",
    "#         counter = 0\n",
    "#         # 0: water\n",
    "#         # 1: unchecked land\n",
    "#         # 2: checked land\n",
    "#         for i in range(len(grid)):\n",
    "#             for j in range(len(grid[i])):\n",
    "# #                 print(i,j)\n",
    "#                 if grid[i][j] == \"0\":\n",
    "#                     pass\n",
    "                \n",
    "#                 elif grid[i][j] == \"1\":\n",
    "#                     # find new 1\n",
    "#                     counter = counter + 1\n",
    "#                     print(\"add: ({},{})\".format(i,j))\n",
    "#                     # check neighbor\n",
    "                    \n",
    "#                     # already a land neighbor\n",
    "#                     if j + 1 < len(grid[i]) and grid[i][j+1] == \"2\":\n",
    "#                         print(\"minus: ({},{})\".format(i,j))\n",
    "#                         counter = counter - 1 # not new island\n",
    "#                         grid[i][j+1] = \"2\"\n",
    "                        \n",
    "#                     # if exist(not edge) and equal to 1\n",
    "#                     if j + 1 < len(grid[i]) and grid[i][j+1] == \"1\":\n",
    "#                         grid[i][j+1] = \"2\"\n",
    "                     \n",
    "#                     # if exist(not edge) and equal to 1\n",
    "#                     if i + 1 < len(grid) and grid[i+1][j] == \"1\":\n",
    "#                         grid[i+1][j] = \"2\"\n",
    "                        \n",
    "#                 elif grid[i][j] == \"2\": # grid = 2\n",
    "#                     # if exist(not edge) and equal to 1\n",
    "#                     if j + 1 < len(grid[i]) and grid[i][j+1] == \"1\":\n",
    "#                         grid[i][j+1] = \"2\"\n",
    "                     \n",
    "#                     # if exist(not edge) and equal to 1\n",
    "#                     if i + 1 < len(grid) and grid[i+1][j] == \"1\":\n",
    "#                         grid[i+1][j] = \"2\"\n",
    "                        \n",
    "#         return counter\n",
    "                        \n",
    "                    \n"
   ]
  },
  {
   "cell_type": "code",
   "execution_count": 24,
   "metadata": {
    "ExecuteTime": {
     "end_time": "2019-08-04T06:59:21.525905Z",
     "start_time": "2019-08-04T06:59:21.521318Z"
    }
   },
   "outputs": [],
   "source": [
    "# # wrong ans: 45/47\n",
    "# # TODO: do you work here\n",
    "# class Solution:\n",
    "#     def numIslands(self, grid):\n",
    "#         \"\"\"\n",
    "#         :type grid: List[List[str]]\n",
    "#         :rtype: int\n",
    "#         \"\"\"\n",
    "#         counter = 0\n",
    "#         island_namer = 0\n",
    "#         record_list = []\n",
    "#         # 0: water\n",
    "#         # 1: unchecked land\n",
    "#         # 2: checked land\n",
    "#         for i in range(len(grid)):\n",
    "#             for j in range(len(grid[i])):\n",
    "# #                 print(i,j)\n",
    "#                 if grid[i][j] == \"0\":\n",
    "#                     pass\n",
    "                \n",
    "#                 # find a new land\n",
    "#                 elif grid[i][j] == \"1\":\n",
    "#                     # new island name\n",
    "#                     island_namer -= 1\n",
    "#                     # counter add 1\n",
    "#                     counter = counter + 1\n",
    "                    \n",
    "#                     # check neighbor (check duplicate island)\n",
    "#                     # right land neighbor already named\n",
    "#                     if j + 1 < len(grid[i]) and int(grid[i][j+1]) < 0:\n",
    "#                         counter = counter - 1 # not new island (same with the right land)\n",
    "#                         grid[i][j] = grid[i][j+1] # use right land name\n",
    "#                     # first time name the island \n",
    "#                     else:\n",
    "#                         grid[i][j] = island_namer\n",
    "                        \n",
    "                    \n",
    "                    \n",
    "#                     # check neighbor (find new island)\n",
    "#                     # if exist(not edge) and equal to 1\n",
    "#                     if j + 1 < len(grid[i]) and grid[i][j+1] == \"1\":\n",
    "#                         grid[i][j+1] = grid[i][j]\n",
    "                     \n",
    "#                     # if exist(not edge) and equal to 1\n",
    "#                     if i + 1 < len(grid) and grid[i+1][j] == \"1\":\n",
    "#                         grid[i+1][j] = grid[i][j]\n",
    "                  \n",
    "                    \n",
    "#                 # find a alreday named land\n",
    "#                 else: # grid < 0, already named island\n",
    "                    \n",
    "#                     # check neighbor (check duplicate island)\n",
    "#                     # right land neighbor already named\n",
    "#                     if j + 1 < len(grid[i]) and int(grid[i][j+1]) < 0:\n",
    "#                         # if same name\n",
    "#                         if grid[i][j] == grid[i][j+1]:\n",
    "#                             pass\n",
    "#                         # if not same name\n",
    "#                         # 0 A\n",
    "#                         # B B\n",
    "#                         else:\n",
    "#                             # record two same island\n",
    "#                             if (grid[i][j] not in record_list) and (grid[i][j+1] not in record_list):\n",
    "#                                 record_list.append(grid[i][j])\n",
    "#                                 record_list.append(grid[i][j+1])\n",
    "#                                 counter = counter - 1 \n",
    "#                             elif grid[i][j] not in record_list: \n",
    "#                                 record_list.append(grid[i][j])\n",
    "#                                 counter = counter - 1 \n",
    "#                             elif grid[i][j+1] not in record_list: \n",
    "#                                 record_list.append(grid[i][j+1])\n",
    "#                                 counter = counter - 1 \n",
    "                                \n",
    "#                     # check neighbor (find new island)\n",
    "#                     # if exist(not edge) and equal to 1\n",
    "#                     if j + 1 < len(grid[i]) and grid[i][j+1] == \"1\":\n",
    "#                         grid[i][j+1] = grid[i][j]\n",
    "                     \n",
    "#                     # if exist(not edge) and equal to 1\n",
    "#                     if i + 1 < len(grid) and grid[i+1][j] == \"1\":\n",
    "#                         grid[i+1][j] = grid[i][j]\n",
    "               \n",
    "#         print(\"\")\n",
    "#         for ele in grid:\n",
    "#             print(ele)\n",
    "                        \n",
    "#         return counter # minus duplicate\n",
    "                        \n",
    "                    \n"
   ]
  },
  {
   "cell_type": "code",
   "execution_count": null,
   "metadata": {},
   "outputs": [],
   "source": []
  },
  {
   "cell_type": "markdown",
   "metadata": {},
   "source": [
    "# reference solution"
   ]
  },
  {
   "cell_type": "code",
   "execution_count": 25,
   "metadata": {
    "ExecuteTime": {
     "end_time": "2019-08-04T06:59:21.530360Z",
     "start_time": "2019-08-04T06:59:21.527973Z"
    }
   },
   "outputs": [],
   "source": [
    "# class Solution:\n",
    "#     def numIslands(self, grid):\n",
    "#         def sink(i, j):\n",
    "#             if 0 <= i < len(grid) and 0 <= j < len(grid[i]) and grid[i][j] == '1': # in the range, is land\n",
    "#                 grid[i][j] = '0' # sink \n",
    "#                 list(map(sink, (i+1, i-1, i, i), (j, j, j+1, j-1)))  # map in python3 return iterator\n",
    "#                 return 1\n",
    "#             return 0\n",
    "        \n",
    "#         print()\n",
    "#         for i in range(len(grid)):\n",
    "#             for j in range(len(grid[i])):\n",
    "#                 print(sink(i, j),end=\"\")\n",
    "#             print()\n",
    "                \n",
    "#         return sum(sink(i, j) for i in range(len(grid)) for j in range(len(grid[i])))"
   ]
  },
  {
   "cell_type": "code",
   "execution_count": 26,
   "metadata": {
    "ExecuteTime": {
     "end_time": "2019-08-04T06:59:21.537091Z",
     "start_time": "2019-08-04T06:59:21.532163Z"
    }
   },
   "outputs": [
    {
     "name": "stdout",
     "output_type": "stream",
     "text": [
      "<map object at 0x116bd02b0>\n",
      "[7, 9, 11, 13, 5]\n"
     ]
    }
   ],
   "source": [
    "# test\n",
    "\n",
    "def add(x,y):\n",
    "    \n",
    "    return x+y\n",
    "\n",
    "print((map(add,(1,2,3,4,5),(6,7,8,9,0))))\n",
    "print(list(map(add,(1,2,3,4,5),(6,7,8,9,0))))\n",
    "\n",
    "    \n",
    "# print(int(list(map(add,(1,2,3,4,5),(6,7,8,9,0)))))\n",
    "# print(list(int(map(add,(1,2,3,4,5),(6,7,8,9,0)))))"
   ]
  },
  {
   "cell_type": "code",
   "execution_count": 27,
   "metadata": {
    "ExecuteTime": {
     "end_time": "2019-08-04T06:59:21.545052Z",
     "start_time": "2019-08-04T06:59:21.538697Z"
    }
   },
   "outputs": [],
   "source": [
    "class Solution:\n",
    "    def numIslands(self, grid):\n",
    "        if not grid:\n",
    "            return 0\n",
    "\n",
    "        count = 0\n",
    "        for i in range(len(grid)):\n",
    "            for j in range(len(grid[0])):\n",
    "                if grid[i][j] == '1':\n",
    "                    self.dfs(grid, i, j)\n",
    "                    count += 1\n",
    "        \n",
    "        \n",
    "        for ele in grid:\n",
    "            print(ele)\n",
    "            \n",
    "        return count\n",
    "\n",
    "    def dfs(self, grid, i, j):\n",
    "        if i<0 or j<0 or i>=len(grid) or j>=len(grid[0]) or grid[i][j] != '1': # out of range, or not land\n",
    "            return\n",
    "        grid[i][j] = '#'\n",
    "        self.dfs(grid, i+1, j)\n",
    "        self.dfs(grid, i-1, j)\n",
    "        self.dfs(grid, i, j+1)\n",
    "        self.dfs(grid, i, j-1)"
   ]
  },
  {
   "cell_type": "code",
   "execution_count": null,
   "metadata": {},
   "outputs": [],
   "source": []
  },
  {
   "cell_type": "markdown",
   "metadata": {},
   "source": [
    "# define testcase function"
   ]
  },
  {
   "cell_type": "code",
   "execution_count": 28,
   "metadata": {
    "ExecuteTime": {
     "end_time": "2019-08-04T06:59:21.550982Z",
     "start_time": "2019-08-04T06:59:21.547085Z"
    }
   },
   "outputs": [],
   "source": [
    "# TODO : setting your input\n",
    "class testcase_elements():\n",
    "    def __init__(self, grid, answer):\n",
    "        self.grid = grid\n",
    "        self.answer = answer \n",
    "        \n",
    "    def testing(self):\n",
    "        A = Solution()\n",
    "        # TODO : setting your solution output \n",
    "        our_result = A.numIslands(self.grid)\n",
    "        \n",
    "        if our_result != self.answer:\n",
    "            print(\"Test failed.\\n -> answer: {}\\n -> Your answer: {}\" \\\n",
    "                  .format(self.answer, our_result))\n",
    "        else:\n",
    "            print(\"Test passed.\")"
   ]
  },
  {
   "cell_type": "code",
   "execution_count": 29,
   "metadata": {
    "ExecuteTime": {
     "end_time": "2019-08-04T06:59:21.555888Z",
     "start_time": "2019-08-04T06:59:21.553001Z"
    }
   },
   "outputs": [],
   "source": [
    "def testcases_testing():\n",
    "    for key in range(len(testcases)):\n",
    "        print(\"Testcase {}: \".format(key), end = \"\")\n",
    "        testcases[key].testing()"
   ]
  },
  {
   "cell_type": "markdown",
   "metadata": {},
   "source": [
    "# testcases"
   ]
  },
  {
   "cell_type": "code",
   "execution_count": 30,
   "metadata": {
    "ExecuteTime": {
     "end_time": "2019-08-04T06:59:21.559527Z",
     "start_time": "2019-08-04T06:59:21.557375Z"
    }
   },
   "outputs": [],
   "source": [
    "testcases = []"
   ]
  },
  {
   "cell_type": "code",
   "execution_count": 31,
   "metadata": {
    "ExecuteTime": {
     "end_time": "2019-08-04T06:59:21.563890Z",
     "start_time": "2019-08-04T06:59:21.560882Z"
    }
   },
   "outputs": [],
   "source": [
    "grid = [\n",
    "['1','1','1','1','0'],\n",
    "['1','1','0','1','0'],\n",
    "['1','1','0','0','0'],\n",
    "['0','0','0','0','0']]\n",
    "\n",
    "answer = 1\n",
    "\n",
    "testcases.append(testcase_elements(grid, answer))"
   ]
  },
  {
   "cell_type": "code",
   "execution_count": 32,
   "metadata": {
    "ExecuteTime": {
     "end_time": "2019-08-04T06:59:21.568611Z",
     "start_time": "2019-08-04T06:59:21.565239Z"
    }
   },
   "outputs": [],
   "source": [
    "grid = [\n",
    "['1','1','0','0','0'],\n",
    "['1','1','0','0','0'],\n",
    "['0','0','1','0','0'],\n",
    "['0','0','0','1','1']]\n",
    "\n",
    "answer = 3\n",
    "\n",
    "testcases.append(testcase_elements(grid, answer))"
   ]
  },
  {
   "cell_type": "code",
   "execution_count": 33,
   "metadata": {
    "ExecuteTime": {
     "end_time": "2019-08-04T06:59:21.573124Z",
     "start_time": "2019-08-04T06:59:21.569988Z"
    }
   },
   "outputs": [],
   "source": [
    "\n",
    "grid = [\n",
    "    [\"1\",\"1\",\"1\",\"1\",\"0\"],\n",
    "    [\"1\",\"1\",\"0\",\"1\",\"0\"],\n",
    "    [\"1\",\"1\",\"0\",\"0\",\"0\"],\n",
    "    [\"0\",\"0\",\"0\",\"0\",\"0\"]]\n",
    "\n",
    "answer = 1\n",
    "\n",
    "testcases.append(testcase_elements(grid, answer))"
   ]
  },
  {
   "cell_type": "code",
   "execution_count": 34,
   "metadata": {
    "ExecuteTime": {
     "end_time": "2019-08-04T06:59:21.576954Z",
     "start_time": "2019-08-04T06:59:21.574294Z"
    }
   },
   "outputs": [],
   "source": [
    "grid = [\n",
    "    [\"1\",\"1\",\"1\"],\n",
    "    [\"0\",\"1\",\"0\"],\n",
    "    [\"1\",\"1\",\"1\"]]\n",
    "\n",
    "answer = 1\n",
    "\n",
    "testcases.append(testcase_elements(grid, answer))"
   ]
  },
  {
   "cell_type": "code",
   "execution_count": 35,
   "metadata": {
    "ExecuteTime": {
     "end_time": "2019-08-04T06:59:21.581344Z",
     "start_time": "2019-08-04T06:59:21.578427Z"
    }
   },
   "outputs": [],
   "source": [
    "grid = [[\"1\",\"0\",\"1\",\"1\",\"1\"],\n",
    "        [\"1\",\"0\",\"1\",\"0\",\"1\"],\n",
    "        [\"1\",\"1\",\"1\",\"0\",\"1\"]]\n",
    "\n",
    "answer = 1\n",
    "\n",
    "testcases.append(testcase_elements(grid, answer))"
   ]
  },
  {
   "cell_type": "code",
   "execution_count": 36,
   "metadata": {
    "ExecuteTime": {
     "end_time": "2019-08-04T06:59:21.588345Z",
     "start_time": "2019-08-04T06:59:21.582654Z"
    }
   },
   "outputs": [],
   "source": [
    "grid = [[\"1\",\"1\",\"1\",\"1\",\"1\",\"1\",\"1\"],\n",
    "        [\"0\",\"0\",\"0\",\"0\",\"0\",\"0\",\"1\"],\n",
    "        [\"1\",\"1\",\"1\",\"1\",\"1\",\"0\",\"1\"],\n",
    "        [\"1\",\"0\",\"0\",\"0\",\"1\",\"0\",\"1\"],\n",
    "        [\"1\",\"0\",\"1\",\"0\",\"1\",\"0\",\"1\"],\n",
    "        [\"1\",\"0\",\"1\",\"1\",\"1\",\"0\",\"1\"],\n",
    "        [\"1\",\"1\",\"1\",\"1\",\"1\",\"1\",\"1\"]]\n",
    "\n",
    "answer = 1\n",
    "\n",
    "testcases.append(testcase_elements(grid, answer))\n",
    "\n",
    "\n",
    "# [-1, -1, -1, -1, -1, -1, -1]\n",
    "# ['0', '0', '0', '0', '0', '0', -1]\n",
    "# [-2, -2, -2, -2, -2, '0', -1]\n",
    "# [-2, '0', '0', '0', -2, '0', -1]\n",
    "# [-2, '0', -3, '0', -2, '0', -1]\n",
    "# [-2, '0', -3, -3, -2, '0', -1]\n",
    "# [-2, -2, -3, -3, -2, -2, -1]"
   ]
  },
  {
   "cell_type": "code",
   "execution_count": null,
   "metadata": {},
   "outputs": [],
   "source": []
  },
  {
   "cell_type": "code",
   "execution_count": null,
   "metadata": {},
   "outputs": [],
   "source": []
  },
  {
   "cell_type": "markdown",
   "metadata": {},
   "source": [
    "# run test"
   ]
  },
  {
   "cell_type": "code",
   "execution_count": 37,
   "metadata": {
    "ExecuteTime": {
     "end_time": "2019-08-04T06:59:21.602921Z",
     "start_time": "2019-08-04T06:59:21.593011Z"
    }
   },
   "outputs": [
    {
     "name": "stdout",
     "output_type": "stream",
     "text": [
      "Testcase 0: ['#', '#', '#', '#', '0']\n",
      "['#', '#', '0', '#', '0']\n",
      "['#', '#', '0', '0', '0']\n",
      "['0', '0', '0', '0', '0']\n",
      "Test passed.\n",
      "Testcase 1: ['#', '#', '0', '0', '0']\n",
      "['#', '#', '0', '0', '0']\n",
      "['0', '0', '#', '0', '0']\n",
      "['0', '0', '0', '#', '#']\n",
      "Test passed.\n",
      "Testcase 2: ['#', '#', '#', '#', '0']\n",
      "['#', '#', '0', '#', '0']\n",
      "['#', '#', '0', '0', '0']\n",
      "['0', '0', '0', '0', '0']\n",
      "Test passed.\n",
      "Testcase 3: ['#', '#', '#']\n",
      "['0', '#', '0']\n",
      "['#', '#', '#']\n",
      "Test passed.\n",
      "Testcase 4: ['#', '0', '#', '#', '#']\n",
      "['#', '0', '#', '0', '#']\n",
      "['#', '#', '#', '0', '#']\n",
      "Test passed.\n",
      "Testcase 5: ['#', '#', '#', '#', '#', '#', '#']\n",
      "['0', '0', '0', '0', '0', '0', '#']\n",
      "['#', '#', '#', '#', '#', '0', '#']\n",
      "['#', '0', '0', '0', '#', '0', '#']\n",
      "['#', '0', '#', '0', '#', '0', '#']\n",
      "['#', '0', '#', '#', '#', '0', '#']\n",
      "['#', '#', '#', '#', '#', '#', '#']\n",
      "Test passed.\n"
     ]
    }
   ],
   "source": [
    "testcases_testing()"
   ]
  }
 ],
 "metadata": {
  "kernelspec": {
   "display_name": "Python 3",
   "language": "python",
   "name": "python3"
  },
  "language_info": {
   "codemirror_mode": {
    "name": "ipython",
    "version": 3
   },
   "file_extension": ".py",
   "mimetype": "text/x-python",
   "name": "python",
   "nbconvert_exporter": "python",
   "pygments_lexer": "ipython3",
   "version": "3.7.3"
  },
  "varInspector": {
   "cols": {
    "lenName": 16,
    "lenType": 16,
    "lenVar": 40
   },
   "kernels_config": {
    "python": {
     "delete_cmd_postfix": "",
     "delete_cmd_prefix": "del ",
     "library": "var_list.py",
     "varRefreshCmd": "print(var_dic_list())"
    },
    "r": {
     "delete_cmd_postfix": ") ",
     "delete_cmd_prefix": "rm(",
     "library": "var_list.r",
     "varRefreshCmd": "cat(var_dic_list()) "
    }
   },
   "types_to_exclude": [
    "module",
    "function",
    "builtin_function_or_method",
    "instance",
    "_Feature"
   ],
   "window_display": false
  }
 },
 "nbformat": 4,
 "nbformat_minor": 2
}
