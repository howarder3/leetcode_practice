{
 "cells": [
  {
   "cell_type": "markdown",
   "metadata": {},
   "source": [
    "# Question"
   ]
  },
  {
   "cell_type": "markdown",
   "metadata": {},
   "source": [
    "https://leetcode.com/problems/number-of-islands/"
   ]
  },
  {
   "cell_type": "markdown",
   "metadata": {},
   "source": [
    "# my solution"
   ]
  },
  {
   "cell_type": "code",
   "execution_count": 76,
   "metadata": {
    "ExecuteTime": {
     "end_time": "2019-07-25T19:30:43.642616Z",
     "start_time": "2019-07-25T19:30:43.632256Z"
    }
   },
   "outputs": [],
   "source": [
    "# TODO: do you work here\n",
    "class Solution:\n",
    "    def numIslands(self, grid):\n",
    "        \"\"\"\n",
    "        :type grid: List[List[str]]\n",
    "        :rtype: int\n",
    "        \"\"\"\n",
    "        counter = 0\n",
    "        # 0: water\n",
    "        # 1: unchecked land\n",
    "        # 2: checked land\n",
    "        for i in range(len(grid)):\n",
    "            for j in range(len(grid[i])):\n",
    "#                 print(i,j)\n",
    "                if grid[i][j] == \"0\":\n",
    "                    pass\n",
    "                \n",
    "                elif grid[i][j] == \"1\":\n",
    "                    # find new 1\n",
    "                    counter = counter + 1\n",
    "                    print(\"add: ({},{})\".format(i,j))\n",
    "                    # check neighbor\n",
    "                    \n",
    "                    # already a land neighbor\n",
    "                    if j + 1 < len(grid[i]) and grid[i][j+1] == \"2\":\n",
    "                        print(\"minus: ({},{})\".format(i,j))\n",
    "                        counter = counter - 1 # not new island\n",
    "                        grid[i][j+1] = \"2\"\n",
    "                        \n",
    "                    # if exist(not edge) and equal to 1\n",
    "                    if j + 1 < len(grid[i]) and grid[i][j+1] == \"1\":\n",
    "                        grid[i][j+1] = \"2\"\n",
    "                     \n",
    "                    # if exist(not edge) and equal to 1\n",
    "                    if i + 1 < len(grid) and grid[i+1][j] == \"1\":\n",
    "                        grid[i+1][j] = \"2\"\n",
    "                        \n",
    "                elif grid[i][j] == \"2\": # grid = 2\n",
    "                    # if exist(not edge) and equal to 1\n",
    "                    if j + 1 < len(grid[i]) and grid[i][j+1] == \"1\":\n",
    "                        grid[i][j+1] = \"2\"\n",
    "                     \n",
    "                    # if exist(not edge) and equal to 1\n",
    "                    if i + 1 < len(grid) and grid[i+1][j] == \"1\":\n",
    "                        grid[i+1][j] = \"2\"\n",
    "                        \n",
    "        return counter\n",
    "                        \n",
    "                    \n"
   ]
  },
  {
   "cell_type": "code",
   "execution_count": null,
   "metadata": {},
   "outputs": [],
   "source": []
  },
  {
   "cell_type": "code",
   "execution_count": null,
   "metadata": {},
   "outputs": [],
   "source": []
  },
  {
   "cell_type": "markdown",
   "metadata": {},
   "source": [
    "# reference solution"
   ]
  },
  {
   "cell_type": "code",
   "execution_count": null,
   "metadata": {},
   "outputs": [],
   "source": []
  },
  {
   "cell_type": "markdown",
   "metadata": {},
   "source": [
    "# define testcase function"
   ]
  },
  {
   "cell_type": "code",
   "execution_count": 77,
   "metadata": {
    "ExecuteTime": {
     "end_time": "2019-07-25T19:30:43.649268Z",
     "start_time": "2019-07-25T19:30:43.644774Z"
    }
   },
   "outputs": [],
   "source": [
    "# TODO : setting your input\n",
    "class testcase_elements():\n",
    "    def __init__(self, grid, answer):\n",
    "        self.grid = grid\n",
    "        self.answer = answer \n",
    "        \n",
    "    def testing(self):\n",
    "        A = Solution()\n",
    "        # TODO : setting your solution output \n",
    "        our_result = A.numIslands(self.grid)\n",
    "        \n",
    "        if our_result != self.answer:\n",
    "            print(\"Test failed.\\n -> answer: {}\\n -> Your answer: {}\" \\\n",
    "                  .format(self.answer, our_result))\n",
    "        else:\n",
    "            print(\"Test passed.\")"
   ]
  },
  {
   "cell_type": "code",
   "execution_count": 78,
   "metadata": {
    "ExecuteTime": {
     "end_time": "2019-07-25T19:30:43.654376Z",
     "start_time": "2019-07-25T19:30:43.651164Z"
    }
   },
   "outputs": [],
   "source": [
    "def testcases_testing():\n",
    "    for key in range(len(testcases)):\n",
    "        print(\"Testcase {}: \".format(key), end = \"\")\n",
    "        testcases[key].testing()"
   ]
  },
  {
   "cell_type": "markdown",
   "metadata": {},
   "source": [
    "# testcases"
   ]
  },
  {
   "cell_type": "code",
   "execution_count": 79,
   "metadata": {
    "ExecuteTime": {
     "end_time": "2019-07-25T19:30:43.659286Z",
     "start_time": "2019-07-25T19:30:43.656495Z"
    }
   },
   "outputs": [],
   "source": [
    "testcases = []"
   ]
  },
  {
   "cell_type": "code",
   "execution_count": 80,
   "metadata": {
    "ExecuteTime": {
     "end_time": "2019-07-25T19:30:43.664994Z",
     "start_time": "2019-07-25T19:30:43.661387Z"
    }
   },
   "outputs": [],
   "source": [
    "grid = [\n",
    "['1','1','1','1','0'],\n",
    "['1','1','0','1','0'],\n",
    "['1','1','0','0','0'],\n",
    "['0','0','0','0','0']]\n",
    "\n",
    "answer = 1\n",
    "\n",
    "testcases.append(testcase_elements(grid, answer))"
   ]
  },
  {
   "cell_type": "code",
   "execution_count": 81,
   "metadata": {
    "ExecuteTime": {
     "end_time": "2019-07-25T19:30:43.671025Z",
     "start_time": "2019-07-25T19:30:43.666631Z"
    }
   },
   "outputs": [],
   "source": [
    "grid = [\n",
    "['1','1','0','0','0'],\n",
    "['1','1','0','0','0'],\n",
    "['0','0','1','0','0'],\n",
    "['0','0','0','1','1']]\n",
    "\n",
    "answer = 3\n",
    "\n",
    "testcases.append(testcase_elements(grid, answer))"
   ]
  },
  {
   "cell_type": "code",
   "execution_count": 82,
   "metadata": {
    "ExecuteTime": {
     "end_time": "2019-07-25T19:30:43.675859Z",
     "start_time": "2019-07-25T19:30:43.672496Z"
    }
   },
   "outputs": [],
   "source": [
    "\n",
    "grid = [\n",
    "    [\"1\",\"1\",\"1\",\"1\",\"0\"],\n",
    "    [\"1\",\"1\",\"0\",\"1\",\"0\"],\n",
    "    [\"1\",\"1\",\"0\",\"0\",\"0\"],\n",
    "    [\"0\",\"0\",\"0\",\"0\",\"0\"]]\n",
    "\n",
    "answer = 1\n",
    "\n",
    "testcases.append(testcase_elements(grid, answer))"
   ]
  },
  {
   "cell_type": "code",
   "execution_count": 83,
   "metadata": {
    "ExecuteTime": {
     "end_time": "2019-07-25T19:30:43.681275Z",
     "start_time": "2019-07-25T19:30:43.678290Z"
    }
   },
   "outputs": [],
   "source": [
    "grid = [\n",
    "    [\"1\",\"1\",\"1\"],\n",
    "    [\"0\",\"1\",\"0\"],\n",
    "    [\"1\",\"1\",\"1\"]]\n",
    "\n",
    "answer = 1\n",
    "\n",
    "testcases.append(testcase_elements(grid, answer))"
   ]
  },
  {
   "cell_type": "code",
   "execution_count": 84,
   "metadata": {
    "ExecuteTime": {
     "end_time": "2019-07-25T19:30:43.685557Z",
     "start_time": "2019-07-25T19:30:43.682650Z"
    }
   },
   "outputs": [],
   "source": [
    "grid = [[\"1\",\"0\",\"1\",\"1\",\"1\"],\n",
    "        [\"1\",\"0\",\"1\",\"0\",\"1\"],\n",
    "        [\"1\",\"1\",\"1\",\"0\",\"1\"]]\n",
    "\n",
    "answer = 1\n",
    "\n",
    "testcases.append(testcase_elements(grid, answer))"
   ]
  },
  {
   "cell_type": "code",
   "execution_count": null,
   "metadata": {},
   "outputs": [],
   "source": []
  },
  {
   "cell_type": "code",
   "execution_count": null,
   "metadata": {},
   "outputs": [],
   "source": []
  },
  {
   "cell_type": "code",
   "execution_count": null,
   "metadata": {},
   "outputs": [],
   "source": []
  },
  {
   "cell_type": "markdown",
   "metadata": {},
   "source": [
    "# run test"
   ]
  },
  {
   "cell_type": "code",
   "execution_count": 85,
   "metadata": {
    "ExecuteTime": {
     "end_time": "2019-07-25T19:30:43.690505Z",
     "start_time": "2019-07-25T19:30:43.686926Z"
    }
   },
   "outputs": [
    {
     "name": "stdout",
     "output_type": "stream",
     "text": [
      "Testcase 0: add: (0,0)\n",
      "Test passed.\n",
      "Testcase 1: add: (0,0)\n",
      "add: (2,2)\n",
      "add: (3,3)\n",
      "Test passed.\n",
      "Testcase 2: add: (0,0)\n",
      "Test passed.\n",
      "Testcase 3: add: (0,0)\n",
      "add: (2,0)\n",
      "minus: (2,0)\n",
      "Test passed.\n",
      "Testcase 4: add: (0,0)\n",
      "add: (0,2)\n",
      "Test failed.\n",
      " -> answer: 1\n",
      " -> Your answer: 2\n"
     ]
    }
   ],
   "source": [
    "testcases_testing()"
   ]
  }
 ],
 "metadata": {
  "kernelspec": {
   "display_name": "Python 3",
   "language": "python",
   "name": "python3"
  },
  "language_info": {
   "codemirror_mode": {
    "name": "ipython",
    "version": 3
   },
   "file_extension": ".py",
   "mimetype": "text/x-python",
   "name": "python",
   "nbconvert_exporter": "python",
   "pygments_lexer": "ipython3",
   "version": "3.7.3"
  },
  "varInspector": {
   "cols": {
    "lenName": 16,
    "lenType": 16,
    "lenVar": 40
   },
   "kernels_config": {
    "python": {
     "delete_cmd_postfix": "",
     "delete_cmd_prefix": "del ",
     "library": "var_list.py",
     "varRefreshCmd": "print(var_dic_list())"
    },
    "r": {
     "delete_cmd_postfix": ") ",
     "delete_cmd_prefix": "rm(",
     "library": "var_list.r",
     "varRefreshCmd": "cat(var_dic_list()) "
    }
   },
   "types_to_exclude": [
    "module",
    "function",
    "builtin_function_or_method",
    "instance",
    "_Feature"
   ],
   "window_display": false
  }
 },
 "nbformat": 4,
 "nbformat_minor": 2
}
