{
 "cells": [
  {
   "cell_type": "markdown",
   "metadata": {},
   "source": [
    "# Question"
   ]
  },
  {
   "cell_type": "markdown",
   "metadata": {},
   "source": [
    "https://leetcode.com/problems/longest-common-prefix/"
   ]
  },
  {
   "cell_type": "markdown",
   "metadata": {},
   "source": [
    "# testcase"
   ]
  },
  {
   "cell_type": "code",
   "execution_count": 76,
   "metadata": {
    "ExecuteTime": {
     "end_time": "2019-07-14T13:11:45.885385Z",
     "start_time": "2019-07-14T13:11:45.882425Z"
    }
   },
   "outputs": [],
   "source": [
    "strs = [\"flower\",\"flow\",\"flight\"]\n",
    "# Output: \"fl\""
   ]
  },
  {
   "cell_type": "code",
   "execution_count": 77,
   "metadata": {
    "ExecuteTime": {
     "end_time": "2019-07-14T13:11:45.890308Z",
     "start_time": "2019-07-14T13:11:45.887761Z"
    }
   },
   "outputs": [],
   "source": [
    "strs = [\"dog\",\"racecar\",\"car\"]\n",
    "# Output: \"\""
   ]
  },
  {
   "cell_type": "code",
   "execution_count": 78,
   "metadata": {
    "ExecuteTime": {
     "end_time": "2019-07-14T13:11:45.895067Z",
     "start_time": "2019-07-14T13:11:45.892581Z"
    }
   },
   "outputs": [],
   "source": [
    "strs = []\n",
    "# \"\""
   ]
  },
  {
   "cell_type": "code",
   "execution_count": 79,
   "metadata": {
    "ExecuteTime": {
     "end_time": "2019-07-14T13:11:45.899688Z",
     "start_time": "2019-07-14T13:11:45.897235Z"
    }
   },
   "outputs": [],
   "source": [
    "strs = [\"c\",\"acc\",\"ccc\"]\n",
    "# \"\"\n"
   ]
  },
  {
   "cell_type": "code",
   "execution_count": 80,
   "metadata": {
    "ExecuteTime": {
     "end_time": "2019-07-14T13:11:45.903595Z",
     "start_time": "2019-07-14T13:11:45.901426Z"
    }
   },
   "outputs": [],
   "source": [
    "strs = [\"a\"]\n",
    "# \"a\""
   ]
  },
  {
   "cell_type": "code",
   "execution_count": 81,
   "metadata": {
    "ExecuteTime": {
     "end_time": "2019-07-14T13:11:45.908027Z",
     "start_time": "2019-07-14T13:11:45.905636Z"
    }
   },
   "outputs": [],
   "source": [
    "strs = [\"c\",\"c\"]\n",
    "# \"c\""
   ]
  },
  {
   "cell_type": "markdown",
   "metadata": {},
   "source": [
    "# run test"
   ]
  },
  {
   "cell_type": "code",
   "execution_count": 82,
   "metadata": {
    "ExecuteTime": {
     "end_time": "2019-07-14T13:11:45.914434Z",
     "start_time": "2019-07-14T13:11:45.909769Z"
    }
   },
   "outputs": [
    {
     "name": "stdout",
     "output_type": "stream",
     "text": [
      "2\n",
      "current_str: c\n",
      "element: c\n",
      "element: c\n"
     ]
    },
    {
     "data": {
      "text/plain": [
       "'c'"
      ]
     },
     "execution_count": 82,
     "metadata": {},
     "output_type": "execute_result"
    }
   ],
   "source": [
    "A = Solution()\n",
    "A.longestCommonPrefix(strs)"
   ]
  },
  {
   "cell_type": "markdown",
   "metadata": {},
   "source": [
    "# solution practice"
   ]
  },
  {
   "cell_type": "code",
   "execution_count": 83,
   "metadata": {
    "ExecuteTime": {
     "end_time": "2019-07-14T13:11:45.921829Z",
     "start_time": "2019-07-14T13:11:45.916267Z"
    }
   },
   "outputs": [],
   "source": [
    "class Solution:\n",
    "    def longestCommonPrefix(self, strs):\n",
    "        \"\"\"\n",
    "        :type strs: List[str]\n",
    "        :rtype: str\n",
    "        \"\"\"\n",
    "        print(len(strs))\n",
    "        if len(strs) == 0:\n",
    "            return \"\"\n",
    "        elif len(strs) == 1:\n",
    "            return strs[0]\n",
    "        else:\n",
    "            target = strs[0]\n",
    "            for i in range(len(target),0,-1):\n",
    "                current_str = target[0:i]\n",
    "                print(\"current_str:\", current_str)\n",
    "\n",
    "                for i, element in enumerate(strs):\n",
    "                    print(\"element:\", element)\n",
    "    #                 print(element.find(\"current_str\"))\n",
    "                    if element.find(current_str) == -1: # someone can't find\n",
    "    #                     print(i)\n",
    "                        break;\n",
    "                    if element.find(current_str) > 0: # not first place\n",
    "    #                     print(i)\n",
    "                        break;\n",
    "                    if i == len(strs)-1:\n",
    "                        return current_str\n",
    "                    # str1.find(str2);\n",
    "            return \"\"\n",
    "            \n",
    "            \n",
    "            \n",
    "            "
   ]
  },
  {
   "cell_type": "code",
   "execution_count": null,
   "metadata": {
    "ExecuteTime": {
     "end_time": "2019-07-14T07:43:28.872462Z",
     "start_time": "2019-07-14T07:43:28.867919Z"
    }
   },
   "outputs": [],
   "source": []
  },
  {
   "cell_type": "code",
   "execution_count": null,
   "metadata": {},
   "outputs": [],
   "source": []
  },
  {
   "cell_type": "markdown",
   "metadata": {},
   "source": [
    "# my solution - clean code"
   ]
  },
  {
   "cell_type": "code",
   "execution_count": 84,
   "metadata": {
    "ExecuteTime": {
     "end_time": "2019-07-14T13:11:45.930156Z",
     "start_time": "2019-07-14T13:11:45.923691Z"
    }
   },
   "outputs": [],
   "source": [
    "class Solution:\n",
    "    def longestCommonPrefix(self, strs):\n",
    "        \"\"\"\n",
    "        :type strs: List[str]\n",
    "        :rtype: str\n",
    "        \"\"\"\n",
    "        print(len(strs))\n",
    "        if len(strs) == 0:\n",
    "            return \"\"\n",
    "        elif len(strs) == 1:\n",
    "            return strs[0]\n",
    "        else:\n",
    "            target = strs[0]\n",
    "            for i in range(len(target),0,-1):\n",
    "                current_str = target[0:i]\n",
    "                print(\"current_str:\", current_str)\n",
    "\n",
    "                for i, element in enumerate(strs):\n",
    "                    if element.find(current_str) == -1: # someone can't find\n",
    "                        break;\n",
    "                    if element.find(current_str) > 0: # not first place\n",
    "                        break;\n",
    "                    if i == len(strs)-1:\n",
    "                        return current_str\n",
    "            return \"\"\n",
    "            \n",
    "            \n",
    "            \n",
    "            "
   ]
  },
  {
   "cell_type": "markdown",
   "metadata": {},
   "source": [
    "# reference answer"
   ]
  },
  {
   "cell_type": "code",
   "execution_count": 85,
   "metadata": {
    "ExecuteTime": {
     "end_time": "2019-07-14T13:11:45.935743Z",
     "start_time": "2019-07-14T13:11:45.932058Z"
    }
   },
   "outputs": [],
   "source": [
    "class Solution:\n",
    "    def longestCommonPrefix(self, strs):\n",
    "        \"\"\"\n",
    "        :type strs: List[str]\n",
    "        :rtype: str\n",
    "        \"\"\"\n",
    "        if not strs: return \"\"\n",
    "        if len(strs) == 1: return strs[0]\n",
    "        \n",
    "        strs.sort()\n",
    "        p = \"\"\n",
    "        for x, y in zip(strs[0], strs[-1]):\n",
    "            if x == y: p+=x\n",
    "            else: break\n",
    "        return r"
   ]
  },
  {
   "cell_type": "code",
   "execution_count": 86,
   "metadata": {
    "ExecuteTime": {
     "end_time": "2019-07-14T13:11:45.940960Z",
     "start_time": "2019-07-14T13:11:45.937253Z"
    }
   },
   "outputs": [],
   "source": [
    "def longestCommonPrefix(self, strs):\n",
    "    prefix=\"\"\n",
    "    if len(strs)==0: return prefix\n",
    "    \n",
    "    for i in xrange(len(min(strs))):\n",
    "        c=strs[0][i]\n",
    "        if all(a[i]==c for a in strs):\n",
    "            prefix+=c\n",
    "        else:\n",
    "            break\n",
    "    return prefix"
   ]
  },
  {
   "cell_type": "code",
   "execution_count": 87,
   "metadata": {
    "ExecuteTime": {
     "end_time": "2019-07-14T13:11:45.945842Z",
     "start_time": "2019-07-14T13:11:45.942221Z"
    }
   },
   "outputs": [],
   "source": [
    "class Solution:\n",
    "    def longestCommonPrefix(self, strs):\n",
    "        \"\"\"\n",
    "        :type strs: List[str]\n",
    "        :rtype: str\n",
    "        \"\"\"\n",
    "        if len(strs) == 0:\n",
    "            return '' \n",
    "        res = ''\n",
    "        strs = sorted(strs)\n",
    "        for i in strs[0]:\n",
    "            if strs[-1].startswith(res+i):\n",
    "                res += i\n",
    "            else:\n",
    "                break\n",
    "        return res"
   ]
  },
  {
   "cell_type": "code",
   "execution_count": null,
   "metadata": {},
   "outputs": [],
   "source": []
  },
  {
   "cell_type": "code",
   "execution_count": null,
   "metadata": {},
   "outputs": [],
   "source": []
  },
  {
   "cell_type": "code",
   "execution_count": null,
   "metadata": {},
   "outputs": [],
   "source": []
  },
  {
   "cell_type": "code",
   "execution_count": null,
   "metadata": {},
   "outputs": [],
   "source": []
  }
 ],
 "metadata": {
  "kernelspec": {
   "display_name": "Python 3",
   "language": "python",
   "name": "python3"
  },
  "language_info": {
   "codemirror_mode": {
    "name": "ipython",
    "version": 3
   },
   "file_extension": ".py",
   "mimetype": "text/x-python",
   "name": "python",
   "nbconvert_exporter": "python",
   "pygments_lexer": "ipython3",
   "version": "3.7.3"
  },
  "varInspector": {
   "cols": {
    "lenName": 16,
    "lenType": 16,
    "lenVar": 40
   },
   "kernels_config": {
    "python": {
     "delete_cmd_postfix": "",
     "delete_cmd_prefix": "del ",
     "library": "var_list.py",
     "varRefreshCmd": "print(var_dic_list())"
    },
    "r": {
     "delete_cmd_postfix": ") ",
     "delete_cmd_prefix": "rm(",
     "library": "var_list.r",
     "varRefreshCmd": "cat(var_dic_list()) "
    }
   },
   "types_to_exclude": [
    "module",
    "function",
    "builtin_function_or_method",
    "instance",
    "_Feature"
   ],
   "window_display": false
  }
 },
 "nbformat": 4,
 "nbformat_minor": 2
}
