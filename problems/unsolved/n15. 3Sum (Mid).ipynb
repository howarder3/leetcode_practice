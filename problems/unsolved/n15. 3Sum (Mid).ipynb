{
 "cells": [
  {
   "cell_type": "markdown",
   "metadata": {},
   "source": [
    "# Question"
   ]
  },
  {
   "cell_type": "markdown",
   "metadata": {},
   "source": [
    "https://leetcode.com/problems/3sum/"
   ]
  },
  {
   "cell_type": "markdown",
   "metadata": {},
   "source": [
    "# my solution"
   ]
  },
  {
   "cell_type": "code",
   "execution_count": 657,
   "metadata": {
    "ExecuteTime": {
     "end_time": "2019-07-25T10:46:53.766491Z",
     "start_time": "2019-07-25T10:46:53.756341Z"
    }
   },
   "outputs": [],
   "source": [
    "# Accepted \n",
    "# TLE: 311/313 for duplicate checking (check all the list)\n",
    "\n",
    "class Solution:\n",
    "    def threeSum(self, nums):\n",
    "        \"\"\"\n",
    "        :type nums: List[int]\n",
    "        :rtype: List[List[int]]\n",
    "        \"\"\"\n",
    "        ans_list = []\n",
    "        if len(nums) <= 2 :\n",
    "            pass\n",
    "        else:\n",
    "            # sort list (nlog(n))\n",
    "            nums = sorted(nums)\n",
    "            # find first number from 0 ~ n-2\n",
    "            # 0 1 2 3 # n=4\n",
    "            # n-3 \"n-2\" n-1 n \n",
    "            # range(n): 0 ~ n-1 \n",
    "            # -> 0 ~ (n-2): range(n-1): 0 ~ (n-1)-1\n",
    "            \n",
    "            for i in range(len(nums)-1): # from 0 ~ n-2\n",
    "                if nums[i] > 0:\n",
    "                    break\n",
    "                elif nums[i] == nums[i-1] and i >= 1: # same value, continue next round(already do in the previous time)\n",
    "                    continue\n",
    "                else:\n",
    "                    # find second and third number from i+1 ~ n\n",
    "                    j = i + 1 # j: second pointer\n",
    "                    k = len(nums)-1 # k: third pointer\n",
    "                    while(True):\n",
    "#                         print(i,j,k)\n",
    "                        if j >= k: # point same(over another) place\n",
    "                            break # end loop\n",
    "                        temp_sum = nums[i]+nums[j]+nums[k]\n",
    "                        if temp_sum == 0: # match condition\n",
    "                            temp_ans = [nums[i], nums[j], nums[k]]\n",
    "                            # if temp_ans in ans_list: # check if duplicate\n",
    "                            #     k = k-1\n",
    "                            ans_list.append(temp_ans)\n",
    "                            \n",
    "                            # check if duplicate\n",
    "                            # must in the range\n",
    "                            while j < k and nums[k-1] == nums[k]:\n",
    "                                k = k-1\n",
    "                            # must in the range\n",
    "                            while j < k and nums[j+1] == nums[j]:\n",
    "                                j = j+1\n",
    "                                \n",
    "                            k = k-1\n",
    "                            j = j+1\n",
    "                                    \n",
    "                        elif temp_sum < 0: # too small: j bigger\n",
    "                            j = j+1\n",
    "                        elif temp_sum > 0: # too big: k smaller\n",
    "                            k = k-1\n",
    "            \n",
    "        return ans_list"
   ]
  },
  {
   "cell_type": "code",
   "execution_count": null,
   "metadata": {},
   "outputs": [],
   "source": []
  },
  {
   "cell_type": "code",
   "execution_count": 658,
   "metadata": {
    "ExecuteTime": {
     "end_time": "2019-07-25T10:46:53.771622Z",
     "start_time": "2019-07-25T10:46:53.768779Z"
    }
   },
   "outputs": [],
   "source": [
    "# TLE : 311/313\n",
    "\n",
    "# class Solution:\n",
    "#     def threeSum(self, nums):\n",
    "#         \"\"\"\n",
    "#         :type nums: List[int]\n",
    "#         :rtype: List[List[int]]\n",
    "#         \"\"\"\n",
    "#         ans_list = []\n",
    "#         if len(nums) < 3 :\n",
    "#             pass\n",
    "# #         nums = sorted(nums)\n",
    "\n",
    "#         else:\n",
    "#             # -c\n",
    "#             rev_nums = [-1 * ele for ele in nums]\n",
    "#             # print(rev_nums)\n",
    "#             # if a+b = -c\n",
    "#             for i in range(len(nums)-1): # 0 ~ (i-1)\n",
    "#                 for j in range(i+1,len(nums)): # 1 ~ i\n",
    "#                     if nums[i]+nums[j] in rev_nums[j+1:]: # find after j\n",
    "#                         # number must ascending\n",
    "# #                         if nums[i] <= nums[j] and nums[j] <= -(nums[i]+nums[j]): \n",
    "#                         ans = sorted([nums[i], nums[j], -(nums[i]+nums[j])])\n",
    "#                         if ans not in ans_list: # check multiple\n",
    "#                             ans_list.append(ans)\n",
    "                                \n",
    "#         return ans_list\n",
    "                    \n"
   ]
  },
  {
   "cell_type": "code",
   "execution_count": 659,
   "metadata": {
    "ExecuteTime": {
     "end_time": "2019-07-25T10:46:53.776254Z",
     "start_time": "2019-07-25T10:46:53.773855Z"
    }
   },
   "outputs": [],
   "source": [
    "# TLE : 311/313\n",
    "# clean code\n",
    "\n",
    "# class Solution:\n",
    "#     def threeSum(self, nums):\n",
    "#         \"\"\"\n",
    "#         :type nums: List[int]\n",
    "#         :rtype: List[List[int]]\n",
    "#         \"\"\"\n",
    "#         ans_list = []\n",
    "#         if len(nums) < 3 :\n",
    "#             pass\n",
    "#         else:\n",
    "#             # -c\n",
    "#             rev_nums = [-1 * ele for ele in nums]\n",
    "#             # if a+b = -c\n",
    "#             for i in range(len(nums)-1): # 0 ~ (i-1)\n",
    "#                 for j in range(i+1,len(nums)): # 1 ~ i\n",
    "#                     if nums[i]+nums[j] in rev_nums[j+1:]: # find after j\n",
    "#                         # number must ascending\n",
    "#                         ans = sorted([nums[i], nums[j], -(nums[i]+nums[j])])\n",
    "#                         if ans not in ans_list: # check multiple\n",
    "#                             ans_list.append(ans)\n",
    "                                \n",
    "#         return ans_list"
   ]
  },
  {
   "cell_type": "code",
   "execution_count": null,
   "metadata": {},
   "outputs": [],
   "source": []
  },
  {
   "cell_type": "markdown",
   "metadata": {},
   "source": [
    "# reference solution"
   ]
  },
  {
   "cell_type": "markdown",
   "metadata": {},
   "source": [
    "Explaination\n",
    "This is the answer from @caikehe and all the comments below\n",
    "\n",
    "The main idea is to iterate every number in nums.\n",
    "We use the number as a target to find two other numbers which make total zero.\n",
    "For those two other numbers, we move pointers, l and r, to try them.\n",
    "\n",
    "l start from left to right\n",
    "r start from right to left\n",
    "\n",
    "First, we sort the array, so we can easily move i around and know how to adjust l and r.\n",
    "If the number is the same as the number before, we have used it as target already, continue. [1]\n",
    "We always start the left pointer from i+1 because the combination of 0~i has already been tried. [2]\n",
    "\n",
    "Now we calculate the total:\n",
    "If the total is less than zero, we need it to be larger, so we move the left pointer. [3]\n",
    "If the total is greater than zero, we need it to be smaller, so we move the right pointer. [4]\n",
    "If the total is zero, bingo! [5]\n",
    "We need to move the left and right pointers to the next different numbers, so we do not get repeating result. [6]\n",
    "\n",
    "We do not need to consider i after nums[i]>0, since sum of 3 positive will be always greater than zero. [7]\n",
    "We do not need to try the last two, since there are no rooms for l and r pointers.\n",
    "You can think of it as The last two have been tried by all others. [8]\n",
    "\n",
    "For time complexity\n",
    "Sorting takes O(NlogN)\n",
    "Now, we need to think as if the 'nums' is really really big\n",
    "We iterate through the 'nums' once, and each time we iterate the whole array again by a while loop\n",
    "So it is O(NlogN+N^2)~=O(N^2)\n",
    "\n",
    "For space complexity\n",
    "We didn't use extra space except the 'res'\n",
    "Since we may store the whole 'nums' in it\n",
    "So it is O(N)\n",
    "N is the length of 'nums'"
   ]
  },
  {
   "cell_type": "code",
   "execution_count": 660,
   "metadata": {
    "ExecuteTime": {
     "end_time": "2019-07-25T10:46:53.781107Z",
     "start_time": "2019-07-25T10:46:53.778468Z"
    }
   },
   "outputs": [],
   "source": [
    "# class Solution(object):\n",
    "# \tdef threeSum(self, nums):\n",
    "# \t\tres = []\n",
    "# \t\tnums.sort()\n",
    "# \t\tlength = len(nums)\n",
    "# \t\tfor i in xrange(length-2): #[8]\n",
    "# \t\t\tif nums[i]>0: break #[7]\n",
    "# \t\t\tif i>0 and nums[i]==nums[i-1]: continue #[1]\n",
    "\n",
    "# \t\t\tl, r = i+1, length-1 #[2]\n",
    "# \t\t\twhile l<r:\n",
    "# \t\t\t\ttotal = nums[i]+nums[l]+nums[r]\n",
    "\n",
    "# \t\t\t\tif total<0: #[3]\n",
    "# \t\t\t\t\tl+=1\n",
    "# \t\t\t\telif total>0: #[4]\n",
    "# \t\t\t\t\tr-=1\n",
    "# \t\t\t\telse: #[5]\n",
    "# \t\t\t\t\tres.append([nums[i], nums[l], nums[r]])\n",
    "# \t\t\t\t\twhile l<r and nums[l]==nums[l+1]: #[6]\n",
    "# \t\t\t\t\t\tl+=1\n",
    "# \t\t\t\t\twhile l<r and nums[r]==nums[r-1]: #[6]\n",
    "# \t\t\t\t\t\tr-=1\n",
    "# \t\t\t\t\tl+=1\n",
    "# \t\t\t\t\tr-=1\n",
    "# \t\treturn res\n"
   ]
  },
  {
   "cell_type": "markdown",
   "metadata": {},
   "source": [
    "# define testcase function"
   ]
  },
  {
   "cell_type": "code",
   "execution_count": 661,
   "metadata": {
    "ExecuteTime": {
     "end_time": "2019-07-25T10:46:53.787286Z",
     "start_time": "2019-07-25T10:46:53.782670Z"
    }
   },
   "outputs": [],
   "source": [
    "class testcase_elements():\n",
    "    def __init__(self, nums, answer):\n",
    "        self.nums = nums\n",
    "        self.answer = answer \n",
    "        \n",
    "    def testing(self):\n",
    "        A = Solution()\n",
    "        our_result = A.threeSum(self.nums)\n",
    "#         if our_result != self.answer:\n",
    "        if sorted(our_result) != sorted(self.answer): # lists have same elements\n",
    "            print(\"Test failed.\\n -> answer: {}\\n -> Your answer: {}\" \\\n",
    "                  .format(self.answer, our_result))\n",
    "        else:\n",
    "            print(\"Test passed.\")"
   ]
  },
  {
   "cell_type": "code",
   "execution_count": 662,
   "metadata": {
    "ExecuteTime": {
     "end_time": "2019-07-25T10:46:53.791730Z",
     "start_time": "2019-07-25T10:46:53.788720Z"
    }
   },
   "outputs": [],
   "source": [
    "def testcases_testing():\n",
    "    for key in range(len(testcases)):\n",
    "        print(\"Testcase {}: \".format(key), end = \"\")\n",
    "        testcases[key].testing()"
   ]
  },
  {
   "cell_type": "markdown",
   "metadata": {},
   "source": [
    "# testcases"
   ]
  },
  {
   "cell_type": "code",
   "execution_count": 663,
   "metadata": {
    "ExecuteTime": {
     "end_time": "2019-07-25T10:46:53.795364Z",
     "start_time": "2019-07-25T10:46:53.793159Z"
    }
   },
   "outputs": [],
   "source": [
    "testcases = []"
   ]
  },
  {
   "cell_type": "code",
   "execution_count": 664,
   "metadata": {
    "ExecuteTime": {
     "end_time": "2019-07-25T10:46:53.802013Z",
     "start_time": "2019-07-25T10:46:53.798242Z"
    }
   },
   "outputs": [],
   "source": [
    "nums = [-1, 0, 1, 2, -1, -4]\n",
    "# nums.sort()\n",
    "# nums = sorted(nums)\n",
    "# print(nums)\n",
    "# rev_nums = [-1 * ele for ele in nums]\n",
    "# print(rev_nums)\n",
    "answer = [\n",
    "  [-1, 0, 1],\n",
    "  [-1, -1, 2]\n",
    "]\n",
    "\n",
    "testcases.append(testcase_elements(nums, answer))"
   ]
  },
  {
   "cell_type": "code",
   "execution_count": 665,
   "metadata": {
    "ExecuteTime": {
     "end_time": "2019-07-25T10:46:53.806587Z",
     "start_time": "2019-07-25T10:46:53.803943Z"
    }
   },
   "outputs": [],
   "source": [
    "nums = [0,0]\n",
    "answer = []\n",
    "\n",
    "testcases.append(testcase_elements(nums, answer))"
   ]
  },
  {
   "cell_type": "code",
   "execution_count": 666,
   "metadata": {
    "ExecuteTime": {
     "end_time": "2019-07-25T10:46:53.810922Z",
     "start_time": "2019-07-25T10:46:53.808182Z"
    }
   },
   "outputs": [],
   "source": [
    "nums = [0,-1,1]\n",
    "answer = [[-1,0,1]]\n",
    "\n",
    "testcases.append(testcase_elements(nums, answer))"
   ]
  },
  {
   "cell_type": "code",
   "execution_count": 667,
   "metadata": {
    "ExecuteTime": {
     "end_time": "2019-07-25T10:46:53.815388Z",
     "start_time": "2019-07-25T10:46:53.812456Z"
    }
   },
   "outputs": [],
   "source": [
    "nums = [0,0,0,0]\n",
    "answer = [[0,0,0]]\n",
    "\n",
    "testcases.append(testcase_elements(nums, answer))"
   ]
  },
  {
   "cell_type": "code",
   "execution_count": 668,
   "metadata": {
    "ExecuteTime": {
     "end_time": "2019-07-25T10:46:53.820187Z",
     "start_time": "2019-07-25T10:46:53.817014Z"
    }
   },
   "outputs": [],
   "source": [
    "nums = [0,0,0]\n",
    "answer = [[0,0,0]]\n",
    "\n",
    "testcases.append(testcase_elements(nums, answer))"
   ]
  },
  {
   "cell_type": "code",
   "execution_count": 669,
   "metadata": {
    "ExecuteTime": {
     "end_time": "2019-07-25T10:46:53.827231Z",
     "start_time": "2019-07-25T10:46:53.822808Z"
    }
   },
   "outputs": [],
   "source": [
    "nums = [-2,0,1,1,2]\n",
    "answer = [[-2,0,2],[-2,1,1]]\n",
    "\n",
    "testcases.append(testcase_elements(nums, answer))"
   ]
  },
  {
   "cell_type": "markdown",
   "metadata": {},
   "source": [
    "# run test"
   ]
  },
  {
   "cell_type": "code",
   "execution_count": 670,
   "metadata": {
    "ExecuteTime": {
     "end_time": "2019-07-25T10:46:53.839300Z",
     "start_time": "2019-07-25T10:46:53.831842Z"
    }
   },
   "outputs": [
    {
     "name": "stdout",
     "output_type": "stream",
     "text": [
      "Testcase 0: Test passed.\n",
      "Testcase 1: Test passed.\n",
      "Testcase 2: Test passed.\n",
      "Testcase 3: Test passed.\n",
      "Testcase 4: Test passed.\n",
      "Testcase 5: Test passed.\n"
     ]
    }
   ],
   "source": [
    "testcases_testing()"
   ]
  }
 ],
 "metadata": {
  "kernelspec": {
   "display_name": "Python 3",
   "language": "python",
   "name": "python3"
  },
  "language_info": {
   "codemirror_mode": {
    "name": "ipython",
    "version": 3
   },
   "file_extension": ".py",
   "mimetype": "text/x-python",
   "name": "python",
   "nbconvert_exporter": "python",
   "pygments_lexer": "ipython3",
   "version": "3.7.5"
  },
  "varInspector": {
   "cols": {
    "lenName": 16,
    "lenType": 16,
    "lenVar": 40
   },
   "kernels_config": {
    "python": {
     "delete_cmd_postfix": "",
     "delete_cmd_prefix": "del ",
     "library": "var_list.py",
     "varRefreshCmd": "print(var_dic_list())"
    },
    "r": {
     "delete_cmd_postfix": ") ",
     "delete_cmd_prefix": "rm(",
     "library": "var_list.r",
     "varRefreshCmd": "cat(var_dic_list()) "
    }
   },
   "types_to_exclude": [
    "module",
    "function",
    "builtin_function_or_method",
    "instance",
    "_Feature"
   ],
   "window_display": false
  }
 },
 "nbformat": 4,
 "nbformat_minor": 2
}
