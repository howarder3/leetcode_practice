{
 "cells": [
  {
   "cell_type": "markdown",
   "metadata": {},
   "source": [
    "# Question"
   ]
  },
  {
   "cell_type": "markdown",
   "metadata": {},
   "source": [
    "https://leetcode.com/problems/3sum/"
   ]
  },
  {
   "cell_type": "markdown",
   "metadata": {},
   "source": [
    "# my solution"
   ]
  },
  {
   "cell_type": "code",
   "execution_count": 223,
   "metadata": {
    "ExecuteTime": {
     "end_time": "2019-07-24T19:13:03.954922Z",
     "start_time": "2019-07-24T19:13:03.948403Z"
    }
   },
   "outputs": [],
   "source": [
    "# TLE\n",
    "\n",
    "class Solution:\n",
    "    def threeSum(self, nums):\n",
    "        \"\"\"\n",
    "        :type nums: List[int]\n",
    "        :rtype: List[List[int]]\n",
    "        \"\"\"\n",
    "        ans_list = []\n",
    "        if len(nums) < 3 :\n",
    "            pass\n",
    "#         nums = sorted(nums)\n",
    "\n",
    "        else:\n",
    "            # -c\n",
    "            rev_nums = [-1 * ele for ele in nums]\n",
    "            # print(rev_nums)\n",
    "            # if a+b = -c\n",
    "            for i in range(len(nums)-1): # 0 ~ (i-1)\n",
    "                for j in range(i+1,len(nums)): # 1 ~ i\n",
    "                    if nums[i]+nums[j] in rev_nums[j+1:]: # find after j\n",
    "                        # number must ascending\n",
    "#                         if nums[i] <= nums[j] and nums[j] <= -(nums[i]+nums[j]): \n",
    "                        ans = sorted([nums[i], nums[j], -(nums[i]+nums[j])])\n",
    "                        if ans not in ans_list: # check multiple\n",
    "                            ans_list.append(ans)\n",
    "                                \n",
    "        return ans_list\n",
    "                    \n"
   ]
  },
  {
   "cell_type": "code",
   "execution_count": null,
   "metadata": {},
   "outputs": [],
   "source": [
    "# clean code\n",
    "\n",
    "class Solution:\n",
    "    def threeSum(self, nums):\n",
    "        \"\"\"\n",
    "        :type nums: List[int]\n",
    "        :rtype: List[List[int]]\n",
    "        \"\"\"\n",
    "        ans_list = []\n",
    "        if len(nums) < 3 :\n",
    "            pass\n",
    "        else:\n",
    "            # -c\n",
    "            rev_nums = [-1 * ele for ele in nums]\n",
    "            # if a+b = -c\n",
    "            for i in range(len(nums)-1): # 0 ~ (i-1)\n",
    "                for j in range(i+1,len(nums)): # 1 ~ i\n",
    "                    if nums[i]+nums[j] in rev_nums[j+1:]: # find after j\n",
    "                        # number must ascending\n",
    "                        ans = sorted([nums[i], nums[j], -(nums[i]+nums[j])])\n",
    "                        if ans not in ans_list: # check multiple\n",
    "                            ans_list.append(ans)\n",
    "                                \n",
    "        return ans_list"
   ]
  },
  {
   "cell_type": "code",
   "execution_count": null,
   "metadata": {},
   "outputs": [],
   "source": []
  },
  {
   "cell_type": "markdown",
   "metadata": {},
   "source": [
    "# reference solution"
   ]
  },
  {
   "cell_type": "code",
   "execution_count": null,
   "metadata": {},
   "outputs": [],
   "source": []
  },
  {
   "cell_type": "markdown",
   "metadata": {},
   "source": [
    "# define testcase function"
   ]
  },
  {
   "cell_type": "code",
   "execution_count": 224,
   "metadata": {
    "ExecuteTime": {
     "end_time": "2019-07-24T19:13:03.962505Z",
     "start_time": "2019-07-24T19:13:03.957522Z"
    }
   },
   "outputs": [],
   "source": [
    "class testcase_elements():\n",
    "    def __init__(self, nums, answer):\n",
    "        self.nums = nums\n",
    "        self.answer = answer \n",
    "        \n",
    "    def testing(self):\n",
    "        A = Solution()\n",
    "        our_result = A.threeSum(self.nums)\n",
    "        if our_result != self.answer:\n",
    "            print(\"Test failed.\\n -> answer: {}\\n -> Your answer: {}\" \\\n",
    "                  .format(self.answer, our_result))\n",
    "        else:\n",
    "            print(\"Test passed.\")"
   ]
  },
  {
   "cell_type": "code",
   "execution_count": 225,
   "metadata": {
    "ExecuteTime": {
     "end_time": "2019-07-24T19:13:03.967551Z",
     "start_time": "2019-07-24T19:13:03.964567Z"
    }
   },
   "outputs": [],
   "source": [
    "def testcases_testing():\n",
    "    for key in range(len(testcases)):\n",
    "        print(\"Testcase {}: \".format(key), end = \"\")\n",
    "        testcases[key].testing()"
   ]
  },
  {
   "cell_type": "markdown",
   "metadata": {},
   "source": [
    "# testcases"
   ]
  },
  {
   "cell_type": "code",
   "execution_count": 226,
   "metadata": {
    "ExecuteTime": {
     "end_time": "2019-07-24T19:13:03.971702Z",
     "start_time": "2019-07-24T19:13:03.969399Z"
    }
   },
   "outputs": [],
   "source": [
    "testcases = []"
   ]
  },
  {
   "cell_type": "code",
   "execution_count": 227,
   "metadata": {
    "ExecuteTime": {
     "end_time": "2019-07-24T19:13:03.976436Z",
     "start_time": "2019-07-24T19:13:03.973289Z"
    }
   },
   "outputs": [],
   "source": [
    "nums = [-1, 0, 1, 2, -1, -4]\n",
    "# nums.sort()\n",
    "# nums = sorted(nums)\n",
    "# print(nums)\n",
    "# rev_nums = [-1 * ele for ele in nums]\n",
    "# print(rev_nums)\n",
    "answer = [\n",
    "  [-1, 0, 1],\n",
    "  [-1, -1, 2]\n",
    "]\n",
    "\n",
    "testcases.append(testcase_elements(nums, answer))"
   ]
  },
  {
   "cell_type": "code",
   "execution_count": 228,
   "metadata": {
    "ExecuteTime": {
     "end_time": "2019-07-24T19:13:03.981531Z",
     "start_time": "2019-07-24T19:13:03.978805Z"
    }
   },
   "outputs": [],
   "source": [
    "nums = [0,0]\n",
    "answer = []\n",
    "\n",
    "testcases.append(testcase_elements(nums, answer))"
   ]
  },
  {
   "cell_type": "code",
   "execution_count": 229,
   "metadata": {
    "ExecuteTime": {
     "end_time": "2019-07-24T19:13:03.986152Z",
     "start_time": "2019-07-24T19:13:03.983306Z"
    }
   },
   "outputs": [],
   "source": [
    "nums = [0,-1,1]\n",
    "answer = [[-1,0,1]]\n",
    "\n",
    "testcases.append(testcase_elements(nums, answer))"
   ]
  },
  {
   "cell_type": "markdown",
   "metadata": {},
   "source": [
    "# run test"
   ]
  },
  {
   "cell_type": "code",
   "execution_count": 230,
   "metadata": {
    "ExecuteTime": {
     "end_time": "2019-07-24T19:13:03.994620Z",
     "start_time": "2019-07-24T19:13:03.987688Z"
    }
   },
   "outputs": [
    {
     "name": "stdout",
     "output_type": "stream",
     "text": [
      "Testcase 0: Test passed.\n",
      "Testcase 1: Test passed.\n",
      "Testcase 2: Test passed.\n"
     ]
    }
   ],
   "source": [
    "testcases_testing()"
   ]
  }
 ],
 "metadata": {
  "kernelspec": {
   "display_name": "Python 3",
   "language": "python",
   "name": "python3"
  },
  "language_info": {
   "codemirror_mode": {
    "name": "ipython",
    "version": 3
   },
   "file_extension": ".py",
   "mimetype": "text/x-python",
   "name": "python",
   "nbconvert_exporter": "python",
   "pygments_lexer": "ipython3",
   "version": "3.7.3"
  },
  "varInspector": {
   "cols": {
    "lenName": 16,
    "lenType": 16,
    "lenVar": 40
   },
   "kernels_config": {
    "python": {
     "delete_cmd_postfix": "",
     "delete_cmd_prefix": "del ",
     "library": "var_list.py",
     "varRefreshCmd": "print(var_dic_list())"
    },
    "r": {
     "delete_cmd_postfix": ") ",
     "delete_cmd_prefix": "rm(",
     "library": "var_list.r",
     "varRefreshCmd": "cat(var_dic_list()) "
    }
   },
   "types_to_exclude": [
    "module",
    "function",
    "builtin_function_or_method",
    "instance",
    "_Feature"
   ],
   "window_display": false
  }
 },
 "nbformat": 4,
 "nbformat_minor": 2
}
