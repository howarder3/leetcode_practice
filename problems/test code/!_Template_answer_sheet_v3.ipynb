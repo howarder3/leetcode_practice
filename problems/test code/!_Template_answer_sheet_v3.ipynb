{
 "cells": [
  {
   "cell_type": "markdown",
   "metadata": {},
   "source": [
    "# Question\n",
    "https://leetcode.com/problems/reverse-integer/"
   ]
  },
  {
   "cell_type": "markdown",
   "metadata": {},
   "source": [
    "# solution practice"
   ]
  },
  {
   "cell_type": "code",
   "execution_count": 1,
   "metadata": {
    "ExecuteTime": {
     "end_time": "2019-07-22T11:34:19.459931Z",
     "start_time": "2019-07-22T11:34:19.455639Z"
    }
   },
   "outputs": [],
   "source": [
    "class Solution:\n",
    "    def twoSum(self, nums, target):\n",
    "        dict = {}\n",
    "        for i, element in enumerate(nums):\n",
    "            if target-nums[i] in dict.keys():\n",
    "                return [dict[target-nums[i]], i]\n",
    "            else:\n",
    "                dict[element] = i"
   ]
  },
  {
   "cell_type": "code",
   "execution_count": null,
   "metadata": {},
   "outputs": [],
   "source": []
  },
  {
   "cell_type": "code",
   "execution_count": null,
   "metadata": {},
   "outputs": [],
   "source": []
  },
  {
   "cell_type": "code",
   "execution_count": null,
   "metadata": {},
   "outputs": [],
   "source": []
  },
  {
   "cell_type": "markdown",
   "metadata": {},
   "source": [
    "# define testcase function"
   ]
  },
  {
   "cell_type": "code",
   "execution_count": 2,
   "metadata": {
    "ExecuteTime": {
     "end_time": "2019-07-22T11:34:19.466385Z",
     "start_time": "2019-07-22T11:34:19.461908Z"
    }
   },
   "outputs": [],
   "source": [
    "class testcase_elements():\n",
    "    def __init__(self, nums, target, answer):\n",
    "        self.nums = nums\n",
    "        self.target = target\n",
    "        self.answer = answer \n",
    "        \n",
    "    def testing(self):\n",
    "        A = Solution()\n",
    "        if A.twoSum(self.nums, self.target) != self.answer:\n",
    "            print(\"Test failed.\\n -> answer: {}\\n -> Your answer: {}\" \\\n",
    "                  .format(self.answer, A.twoSum(self.nums, self.target)))\n",
    "        else:\n",
    "            print(\"Test passed.\")"
   ]
  },
  {
   "cell_type": "code",
   "execution_count": 3,
   "metadata": {
    "ExecuteTime": {
     "end_time": "2019-07-22T11:34:19.471770Z",
     "start_time": "2019-07-22T11:34:19.468548Z"
    }
   },
   "outputs": [],
   "source": [
    "def testcases_testing():\n",
    "    for key in range(len(testcases)):\n",
    "        print(\"Testcase {}: \".format(key), end = \"\")\n",
    "        testcases[key].testing()"
   ]
  },
  {
   "cell_type": "markdown",
   "metadata": {},
   "source": [
    "# testcases"
   ]
  },
  {
   "cell_type": "code",
   "execution_count": 4,
   "metadata": {
    "ExecuteTime": {
     "end_time": "2019-07-22T11:34:19.477182Z",
     "start_time": "2019-07-22T11:34:19.473737Z"
    }
   },
   "outputs": [],
   "source": [
    "testcases = []\n",
    "\n",
    "nums = [3,2,4]\n",
    "target = 6\n",
    "answer = [1,2]\n",
    "\n",
    "testcases.append(testcase_elements(nums, target, answer))"
   ]
  },
  {
   "cell_type": "code",
   "execution_count": 5,
   "metadata": {
    "ExecuteTime": {
     "end_time": "2019-07-22T11:34:19.481992Z",
     "start_time": "2019-07-22T11:34:19.479111Z"
    }
   },
   "outputs": [],
   "source": [
    "nums = [3,3]\n",
    "target = 6\n",
    "answer = [0,1]\n",
    "\n",
    "testcases.append(testcase_elements(nums, target, answer))"
   ]
  },
  {
   "cell_type": "code",
   "execution_count": 6,
   "metadata": {
    "ExecuteTime": {
     "end_time": "2019-07-22T11:34:19.485957Z",
     "start_time": "2019-07-22T11:34:19.483252Z"
    }
   },
   "outputs": [],
   "source": [
    "nums = [3,2,4]\n",
    "target = 6\n",
    "answer = [1,2]\n",
    "\n",
    "testcases.append(testcase_elements(nums, target, answer))"
   ]
  },
  {
   "cell_type": "code",
   "execution_count": 10,
   "metadata": {
    "ExecuteTime": {
     "end_time": "2019-07-22T11:34:19.499985Z",
     "start_time": "2019-07-22T11:34:19.497905Z"
    }
   },
   "outputs": [],
   "source": [
    "# def testing():\n",
    "#     for index,[key,value] in enumerate(testcases.items()):\n",
    "#         A = Solution()\n",
    "#         A.twoSum(key)\n",
    "#         if A.reverse(key) != testcases[key]:\n",
    "#             print(\"Testcase {}: Test failed.\\n -> input: {}, output: {}\\n -> Your answer: {}\".format(index, key, value, A.reverse(key)))\n",
    "#         else:\n",
    "#             print(\"Testcase {}: Test passed.\".format(index))\n"
   ]
  },
  {
   "cell_type": "markdown",
   "metadata": {},
   "source": [
    "# run test"
   ]
  },
  {
   "cell_type": "code",
   "execution_count": 11,
   "metadata": {
    "ExecuteTime": {
     "end_time": "2019-07-22T11:34:19.504951Z",
     "start_time": "2019-07-22T11:34:19.501568Z"
    }
   },
   "outputs": [
    {
     "name": "stdout",
     "output_type": "stream",
     "text": [
      "Testcase 0: Test passed.\n",
      "Testcase 1: Test passed.\n",
      "Testcase 2: Test passed.\n"
     ]
    }
   ],
   "source": [
    "testcases_testing()"
   ]
  },
  {
   "cell_type": "code",
   "execution_count": 12,
   "metadata": {
    "ExecuteTime": {
     "end_time": "2019-07-22T11:34:19.508516Z",
     "start_time": "2019-07-22T11:34:19.506425Z"
    }
   },
   "outputs": [],
   "source": [
    "# testcases[0].testing()\n",
    "# testcases[1].testing()\n",
    "# testcases[2].testing()"
   ]
  },
  {
   "cell_type": "code",
   "execution_count": 13,
   "metadata": {
    "ExecuteTime": {
     "end_time": "2019-07-22T11:34:19.515203Z",
     "start_time": "2019-07-22T11:34:19.509726Z"
    }
   },
   "outputs": [
    {
     "name": "stdout",
     "output_type": "stream",
     "text": [
      "[3, 2, 4]\n",
      "6\n",
      "[1, 2]\n",
      "[3, 3]\n",
      "6\n",
      "[0, 1]\n",
      "[3, 2, 4]\n",
      "6\n",
      "[1, 2]\n"
     ]
    }
   ],
   "source": [
    "print(testcases[0].nums)\n",
    "print(testcases[0].target)\n",
    "print(testcases[0].answer)\n",
    "\n",
    "print(testcases[1].nums)\n",
    "print(testcases[1].target)\n",
    "print(testcases[1].answer)\n",
    "\n",
    "print(testcases[2].nums)\n",
    "print(testcases[2].target)\n",
    "print(testcases[2].answer)"
   ]
  },
  {
   "cell_type": "code",
   "execution_count": null,
   "metadata": {},
   "outputs": [],
   "source": []
  },
  {
   "cell_type": "code",
   "execution_count": null,
   "metadata": {},
   "outputs": [],
   "source": []
  },
  {
   "cell_type": "code",
   "execution_count": null,
   "metadata": {},
   "outputs": [],
   "source": []
  },
  {
   "cell_type": "markdown",
   "metadata": {},
   "source": [
    "# reference answer"
   ]
  },
  {
   "cell_type": "code",
   "execution_count": null,
   "metadata": {
    "ExecuteTime": {
     "end_time": "2019-07-14T07:43:28.878590Z",
     "start_time": "2019-07-14T07:43:28.874147Z"
    }
   },
   "outputs": [],
   "source": []
  },
  {
   "cell_type": "code",
   "execution_count": null,
   "metadata": {},
   "outputs": [],
   "source": []
  },
  {
   "cell_type": "code",
   "execution_count": null,
   "metadata": {},
   "outputs": [],
   "source": []
  },
  {
   "cell_type": "code",
   "execution_count": null,
   "metadata": {},
   "outputs": [],
   "source": []
  },
  {
   "cell_type": "code",
   "execution_count": null,
   "metadata": {},
   "outputs": [],
   "source": []
  },
  {
   "cell_type": "code",
   "execution_count": null,
   "metadata": {},
   "outputs": [],
   "source": []
  },
  {
   "cell_type": "code",
   "execution_count": null,
   "metadata": {},
   "outputs": [],
   "source": []
  }
 ],
 "metadata": {
  "kernelspec": {
   "display_name": "Python 3",
   "language": "python",
   "name": "python3"
  },
  "language_info": {
   "codemirror_mode": {
    "name": "ipython",
    "version": 3
   },
   "file_extension": ".py",
   "mimetype": "text/x-python",
   "name": "python",
   "nbconvert_exporter": "python",
   "pygments_lexer": "ipython3",
   "version": "3.7.3"
  },
  "varInspector": {
   "cols": {
    "lenName": 16,
    "lenType": 16,
    "lenVar": 40
   },
   "kernels_config": {
    "python": {
     "delete_cmd_postfix": "",
     "delete_cmd_prefix": "del ",
     "library": "var_list.py",
     "varRefreshCmd": "print(var_dic_list())"
    },
    "r": {
     "delete_cmd_postfix": ") ",
     "delete_cmd_prefix": "rm(",
     "library": "var_list.r",
     "varRefreshCmd": "cat(var_dic_list()) "
    }
   },
   "types_to_exclude": [
    "module",
    "function",
    "builtin_function_or_method",
    "instance",
    "_Feature"
   ],
   "window_display": false
  }
 },
 "nbformat": 4,
 "nbformat_minor": 2
}
