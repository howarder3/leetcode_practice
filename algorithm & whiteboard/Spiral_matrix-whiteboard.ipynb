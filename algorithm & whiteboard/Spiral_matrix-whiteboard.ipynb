{
 "cells": [
  {
   "cell_type": "code",
   "execution_count": 47,
   "metadata": {
    "collapsed": true
   },
   "outputs": [],
   "source": [
    "arr = [[-1 for x in range(5)] for y in range(5)]  \n",
    "str = \"abcdefghijklmnopqrstvwxy\""
   ]
  },
  {
   "cell_type": "code",
   "execution_count": 48,
   "metadata": {},
   "outputs": [
    {
     "name": "stdout",
     "output_type": "stream",
     "text": [
      "[-1, -1, -1, -1, -1]\n",
      "[-1, -1, -1, -1, -1]\n",
      "[-1, -1, -1, -1, -1]\n",
      "[-1, -1, -1, -1, -1]\n",
      "[-1, -1, -1, -1, -1]\n"
     ]
    }
   ],
   "source": [
    "for ele in arr:\n",
    "    print(ele)"
   ]
  },
  {
   "cell_type": "code",
   "execution_count": 53,
   "metadata": {},
   "outputs": [
    {
     "name": "stdout",
     "output_type": "stream",
     "text": [
      "['a', 'p', 'o', 'n', 'm']\n",
      "['b', 'q', 'x', 'w', 'l']\n",
      "['c', 'r', 'y', 'v', 'k']\n",
      "['d', 's', 't', 'u', 'j']\n",
      "['e', 'f', 'g', 'h', 'i']\n"
     ]
    }
   ],
   "source": [
    "# arr = [[-1]*5]*5 # 會一起改值\n",
    "arr = [[-1 for x in range(5)] for y in range(5)]  \n",
    "str = \"abcdefghijklmnopqrstuvwxyz\"\n",
    "\n",
    "x,y = 0,0\n",
    "x_move, y_move = 1,1\n",
    "\n",
    "for ele in str:   \n",
    "    if arr[x][y] == -1: # can replace str\n",
    "        arr[x][y] = ele\n",
    "    \n",
    "#     print(x+x_move, y)\n",
    "#     print(x, y+y_move)\n",
    "#     print(arr[x+x_move][y])\n",
    "    if 0 <= x+x_move and x+x_move < 5 and arr[x+x_move][y] == -1: # move x\n",
    "        x = x + x_move\n",
    "    elif 0 <= y+y_move and y+y_move < 5 and arr[x][y+y_move] == -1: # move y\n",
    "        y = y + y_move\n",
    "    else:\n",
    "        x_move, y_move = -x_move, -y_move\n",
    "        \n",
    "        # decide next step:\n",
    "        if 0 <= x+x_move and x+x_move < 5 and arr[x+x_move][y] == -1: # move x\n",
    "            x = x + x_move\n",
    "        elif 0 <= y+y_move and y+y_move < 5 and arr[x][y+y_move] == -1: # move y\n",
    "            y = y + y_move\n",
    "        \n",
    "#     print(x, y, x_move, y_move) \n",
    "    \n",
    "for ele in arr:\n",
    "    print(ele)"
   ]
  },
  {
   "cell_type": "code",
   "execution_count": 52,
   "metadata": {},
   "outputs": [
    {
     "name": "stdout",
     "output_type": "stream",
     "text": [
      "['a', 'b', 'c', 'd', 'e']\n",
      "['p', 'q', 'r', 's', 'f']\n",
      "['o', 'x', 'y', 't', 'g']\n",
      "['n', 'w', 'v', 'u', 'h']\n",
      "['m', 'l', 'k', 'j', 'i']\n"
     ]
    }
   ],
   "source": [
    "# arr = [[-1]*5]*5 # 會一起改值\n",
    "arr = [[-1 for x in range(5)] for y in range(5)]  \n",
    "str = \"abcdefghijklmnopqrstuvwxyz\"\n",
    "\n",
    "x,y = 0,0\n",
    "x_move, y_move = 1,1\n",
    "\n",
    "for ele in str:   \n",
    "    if arr[y][x] == -1: # can replace str\n",
    "        arr[y][x] = ele\n",
    "    \n",
    "#     print(x+x_move, y)\n",
    "#     print(x, y+y_move)\n",
    "#     print(arr[x+x_move][y])\n",
    "    if 0 <= x+x_move and x+x_move < 5 and arr[y][x+x_move] == -1: # move x\n",
    "        x = x + x_move\n",
    "    elif 0 <= y+y_move and y+y_move < 5 and arr[y+y_move][x] == -1: # move y\n",
    "        y = y + y_move\n",
    "    else:\n",
    "        x_move, y_move = -x_move, -y_move\n",
    "        \n",
    "        # decide next step:\n",
    "        if 0 <= x+x_move and x+x_move < 5 and arr[y][x+x_move] == -1: # move x\n",
    "            x = x + x_move\n",
    "        elif 0 <= y+y_move and y+y_move < 5 and arr[y+y_move][x] == -1: # move y\n",
    "            y = y + y_move\n",
    "        \n",
    "#     print(x, y, x_move, y_move) \n",
    "    \n",
    "for ele in arr:\n",
    "    print(ele)"
   ]
  },
  {
   "cell_type": "code",
   "execution_count": null,
   "metadata": {
    "collapsed": true
   },
   "outputs": [],
   "source": []
  }
 ],
 "metadata": {
  "kernelspec": {
   "display_name": "Python 3",
   "language": "python",
   "name": "python3"
  },
  "language_info": {
   "codemirror_mode": {
    "name": "ipython",
    "version": 3
   },
   "file_extension": ".py",
   "mimetype": "text/x-python",
   "name": "python",
   "nbconvert_exporter": "python",
   "pygments_lexer": "ipython3",
   "version": "3.6.3"
  },
  "varInspector": {
   "cols": {
    "lenName": 16,
    "lenType": 16,
    "lenVar": 40
   },
   "kernels_config": {
    "python": {
     "delete_cmd_postfix": "",
     "delete_cmd_prefix": "del ",
     "library": "var_list.py",
     "varRefreshCmd": "print(var_dic_list())"
    },
    "r": {
     "delete_cmd_postfix": ") ",
     "delete_cmd_prefix": "rm(",
     "library": "var_list.r",
     "varRefreshCmd": "cat(var_dic_list()) "
    }
   },
   "types_to_exclude": [
    "module",
    "function",
    "builtin_function_or_method",
    "instance",
    "_Feature"
   ],
   "window_display": false
  }
 },
 "nbformat": 4,
 "nbformat_minor": 2
}
