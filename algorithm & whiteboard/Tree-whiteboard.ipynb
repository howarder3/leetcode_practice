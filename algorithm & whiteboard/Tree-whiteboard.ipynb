{
 "cells": [
  {
   "cell_type": "code",
   "execution_count": 30,
   "metadata": {},
   "outputs": [],
   "source": [
    "class TreeNode:\n",
    "    def __init__(self, val, left=None ,right=None):\n",
    "        self.val = val\n",
    "        self.left = None\n",
    "        self.right = None\n",
    "        \n",
    "    def insert(self, node, val):\n",
    "        if node is None: # add value\n",
    "            node = TreeNode(val) \n",
    "        \n",
    "        if node.val > val: # val小 往左\n",
    "            if node.left is None: # add value\n",
    "                node.left = TreeNode(val) \n",
    "                return\n",
    "            else:\n",
    "                self.insert(node.left, val)\n",
    "            \n",
    "        if node.val < val: # val大 往右\n",
    "            if node.right is None: # add value\n",
    "                node.right = TreeNode(val) \n",
    "                return\n",
    "            else:\n",
    "                self.insert(node.right, val)\n",
    "                \n",
    "    def insert2(self, node, val):\n",
    "        if node is None: # add value\n",
    "            return TreeNode(val) \n",
    "        \n",
    "        if node.val > val: # val小 往左\n",
    "            node.left = self.insert(node.left, val)                \n",
    "            \n",
    "        if node.val < val: # val大 往右\n",
    "            node.right = self.insert(node.right, val)\n",
    "                \n",
    "    def insert_by_index(self, root, val):\n",
    "        node_queue = [root] \n",
    "        while(node_queue):           \n",
    "            node = node_queue.pop(0)\n",
    "            if node.left is None:\n",
    "                node.left = TreeNode(val) \n",
    "                return\n",
    "            elif node.right is None:\n",
    "                node.right = TreeNode(val) \n",
    "                return           \n",
    "            else: # checked is not None (has value), go down\n",
    "                node_queue.append(node.left)\n",
    "                node_queue.append(node.right)\n",
    "         \n",
    "    def level_order_travesal(self, root):\n",
    "        level = [root]\n",
    "        while(level):\n",
    "            \n",
    "            level_ele = []\n",
    "            for ele in level:\n",
    "                level_ele.append(ele.val)\n",
    "            print(level_ele)\n",
    "        \n",
    "            next_level = []\n",
    "            for node in level:\n",
    "                if node.left is not None:\n",
    "                    next_level.append(node.left)\n",
    "                if node.right is not None:\n",
    "                    next_level.append(node.right)\n",
    "\n",
    "            level = next_level\n",
    "        \n",
    "        \n",
    "        \n",
    "        "
   ]
  },
  {
   "cell_type": "code",
   "execution_count": 5,
   "metadata": {},
   "outputs": [
    {
     "ename": "IndentationError",
     "evalue": "unindent does not match any outer indentation level (<tokenize>, line 4)",
     "output_type": "error",
     "traceback": [
      "\u001b[1;36m  File \u001b[1;32m\"<tokenize>\"\u001b[1;36m, line \u001b[1;32m4\u001b[0m\n\u001b[1;33m    / \\\u001b[0m\n\u001b[1;37m    ^\u001b[0m\n\u001b[1;31mIndentationError\u001b[0m\u001b[1;31m:\u001b[0m unindent does not match any outer indentation level\n"
     ]
    }
   ],
   "source": [
    "#      1\n",
    "#    /   \\\n",
    "#   2     3\n",
    "#        / \\\n",
    "#       6   7"
   ]
  },
  {
   "cell_type": "markdown",
   "metadata": {},
   "source": [
    "### 暴力build Tree"
   ]
  },
  {
   "cell_type": "code",
   "execution_count": 6,
   "metadata": {},
   "outputs": [],
   "source": [
    "root = TreeNode(1)\n",
    "root.left = TreeNode(2)\n",
    "root.right = TreeNode(3)\n",
    "root.left.left = TreeNode(5)\n",
    "root.left.right = TreeNode(4)\n",
    "# root.right.left = TreeNode(6)\n",
    "root.right.right = TreeNode(7)"
   ]
  },
  {
   "cell_type": "code",
   "execution_count": 7,
   "metadata": {},
   "outputs": [
    {
     "name": "stdout",
     "output_type": "stream",
     "text": [
      "[1]\n",
      "[2, 3]\n",
      "[5, 4, 7]\n"
     ]
    }
   ],
   "source": [
    "root.level_order_travesal(root)"
   ]
  },
  {
   "cell_type": "markdown",
   "metadata": {},
   "source": [
    "### auto build Tree (by level order)"
   ]
  },
  {
   "cell_type": "code",
   "execution_count": 10,
   "metadata": {},
   "outputs": [],
   "source": [
    "num_list = [1,2,3,5,4,None,7]\n",
    "\n",
    "root3 = TreeNode(1) # init\n",
    "for idx in range(1, len(num_list)):\n",
    "    root3.insert_by_index(root3, num_list[idx])"
   ]
  },
  {
   "cell_type": "code",
   "execution_count": 11,
   "metadata": {},
   "outputs": [
    {
     "name": "stdout",
     "output_type": "stream",
     "text": [
      "[1]\n",
      "[2, 3]\n",
      "[5, 4, None, 7]\n"
     ]
    }
   ],
   "source": [
    "root3.level_order_travesal(root3)"
   ]
  },
  {
   "cell_type": "markdown",
   "metadata": {
    "collapsed": true
   },
   "source": [
    "### auto build Tree (by insert)"
   ]
  },
  {
   "cell_type": "code",
   "execution_count": 41,
   "metadata": {},
   "outputs": [],
   "source": [
    "num_list = [4,2,1,3,6,5,7]\n",
    "\n",
    "root4 = TreeNode(num_list[0]) # init\n",
    "for idx in range(1, len(num_list)):\n",
    "    root4.insert(root4, num_list[idx])    "
   ]
  },
  {
   "cell_type": "code",
   "execution_count": 42,
   "metadata": {},
   "outputs": [
    {
     "name": "stdout",
     "output_type": "stream",
     "text": [
      "[4]\n",
      "[2, 6]\n",
      "[1, 3, 5, 7]\n"
     ]
    }
   ],
   "source": [
    "root4.level_order_travesal(root4)"
   ]
  },
  {
   "cell_type": "code",
   "execution_count": 43,
   "metadata": {},
   "outputs": [],
   "source": [
    "num_list = [4,2,1,3,6,5,7]\n",
    "\n",
    "root5 = TreeNode(num_list[0]) # init\n",
    "for idx in range(1, len(num_list)):\n",
    "    root5.insert(root5, num_list[idx])     "
   ]
  },
  {
   "cell_type": "code",
   "execution_count": 44,
   "metadata": {},
   "outputs": [
    {
     "name": "stdout",
     "output_type": "stream",
     "text": [
      "[4]\n",
      "[2, 6]\n",
      "[1, 3, 5, 7]\n"
     ]
    }
   ],
   "source": [
    "root5.level_order_travesal(root5)"
   ]
  },
  {
   "cell_type": "code",
   "execution_count": null,
   "metadata": {},
   "outputs": [],
   "source": []
  },
  {
   "cell_type": "code",
   "execution_count": null,
   "metadata": {},
   "outputs": [],
   "source": []
  },
  {
   "cell_type": "code",
   "execution_count": null,
   "metadata": {},
   "outputs": [],
   "source": []
  }
 ],
 "metadata": {
  "kernelspec": {
   "display_name": "Python 3",
   "language": "python",
   "name": "python3"
  },
  "language_info": {
   "codemirror_mode": {
    "name": "ipython",
    "version": 3
   },
   "file_extension": ".py",
   "mimetype": "text/x-python",
   "name": "python",
   "nbconvert_exporter": "python",
   "pygments_lexer": "ipython3",
   "version": "3.6.3"
  },
  "varInspector": {
   "cols": {
    "lenName": 16,
    "lenType": 16,
    "lenVar": 40
   },
   "kernels_config": {
    "python": {
     "delete_cmd_postfix": "",
     "delete_cmd_prefix": "del ",
     "library": "var_list.py",
     "varRefreshCmd": "print(var_dic_list())"
    },
    "r": {
     "delete_cmd_postfix": ") ",
     "delete_cmd_prefix": "rm(",
     "library": "var_list.r",
     "varRefreshCmd": "cat(var_dic_list()) "
    }
   },
   "types_to_exclude": [
    "module",
    "function",
    "builtin_function_or_method",
    "instance",
    "_Feature"
   ],
   "window_display": false
  }
 },
 "nbformat": 4,
 "nbformat_minor": 2
}
