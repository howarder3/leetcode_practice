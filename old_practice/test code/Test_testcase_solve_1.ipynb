{
 "cells": [
  {
   "cell_type": "markdown",
   "metadata": {},
   "source": [
    "# Question\n",
    "https://leetcode.com/problems/reverse-integer/"
   ]
  },
  {
   "cell_type": "markdown",
   "metadata": {},
   "source": [
    "# solution practice"
   ]
  },
  {
   "cell_type": "code",
   "execution_count": 53,
   "metadata": {
    "ExecuteTime": {
     "end_time": "2019-07-22T11:22:36.405403Z",
     "start_time": "2019-07-22T11:22:36.400665Z"
    }
   },
   "outputs": [],
   "source": [
    "class Solution:\n",
    "    def twoSum(self, nums, target):\n",
    "        dict = {}\n",
    "        for i, element in enumerate(nums):\n",
    "            if target-nums[i] in dict.keys():\n",
    "                return [dict[target-nums[i]], i]\n",
    "            else:\n",
    "                dict[element] = i\n",
    "                \n",
    "                \n",
    "#             print(dict)\n",
    "            "
   ]
  },
  {
   "cell_type": "markdown",
   "metadata": {},
   "source": [
    "# define testcase function"
   ]
  },
  {
   "cell_type": "code",
   "execution_count": 54,
   "metadata": {
    "ExecuteTime": {
     "end_time": "2019-07-22T11:22:36.412726Z",
     "start_time": "2019-07-22T11:22:36.407645Z"
    }
   },
   "outputs": [],
   "source": [
    "class testcase_elements():\n",
    "    def __init__(self, nums, target, answer):\n",
    "        self.nums = nums\n",
    "        self.target = target\n",
    "        self.answer = answer \n",
    "        \n",
    "    def testing(self):\n",
    "        A = Solution()\n",
    "#         print(A.twoSum(self.nums, self.target))\n",
    "#         print(A.twoSum(nums, target))\n",
    "#         print(answer)\n",
    "        \n",
    "        if A.twoSum(self.nums, self.target) != self.answer:\n",
    "            print(\"Test failed.\\n -> answer: {}\\n -> Your answer: {}\" \\\n",
    "                  .format(self.answer, A.twoSum(self.nums, self.target)))\n",
    "        else:\n",
    "            print(\"Test passed.\")"
   ]
  },
  {
   "cell_type": "code",
   "execution_count": 55,
   "metadata": {
    "ExecuteTime": {
     "end_time": "2019-07-22T11:22:36.418633Z",
     "start_time": "2019-07-22T11:22:36.415180Z"
    }
   },
   "outputs": [],
   "source": [
    "def testcases_testing():\n",
    "    for key in range(len(testcases)):\n",
    "        print(\"Testcase {}: \".format(key), end = \"\")\n",
    "        testcases[key].testing()"
   ]
  },
  {
   "cell_type": "markdown",
   "metadata": {},
   "source": [
    "# testcases"
   ]
  },
  {
   "cell_type": "code",
   "execution_count": 56,
   "metadata": {
    "ExecuteTime": {
     "end_time": "2019-07-22T11:22:36.424058Z",
     "start_time": "2019-07-22T11:22:36.420903Z"
    }
   },
   "outputs": [],
   "source": [
    "testcases = []\n",
    "\n",
    "nums = [3,2,4]\n",
    "target = 6\n",
    "answer = [1,2]\n",
    "\n",
    "testcases.append(testcase_elements(nums, target, answer))\n",
    "\n",
    "# testcases[key].testing()\n",
    "# print(len(testcases))\n",
    "# print(testcases.items())"
   ]
  },
  {
   "cell_type": "code",
   "execution_count": 57,
   "metadata": {
    "ExecuteTime": {
     "end_time": "2019-07-22T11:22:36.428815Z",
     "start_time": "2019-07-22T11:22:36.425935Z"
    }
   },
   "outputs": [],
   "source": [
    "nums = [3,3]\n",
    "target = 6\n",
    "answer = [0,1]\n",
    "\n",
    "testcases.append(testcase_elements(nums, target, answer))"
   ]
  },
  {
   "cell_type": "code",
   "execution_count": 58,
   "metadata": {
    "ExecuteTime": {
     "end_time": "2019-07-22T11:22:36.433091Z",
     "start_time": "2019-07-22T11:22:36.430451Z"
    }
   },
   "outputs": [],
   "source": [
    "nums = [3,2,4]\n",
    "target = 6\n",
    "answer = [1,2]\n",
    "\n",
    "testcases.append(testcase_elements(nums, target, answer))\n",
    "# testcases[5] = testcase_elements(nums, target, answer)"
   ]
  },
  {
   "cell_type": "code",
   "execution_count": null,
   "metadata": {
    "ExecuteTime": {
     "end_time": "2019-07-22T11:18:36.896751Z",
     "start_time": "2019-07-22T11:18:36.893689Z"
    }
   },
   "outputs": [],
   "source": []
  },
  {
   "cell_type": "code",
   "execution_count": null,
   "metadata": {},
   "outputs": [],
   "source": []
  },
  {
   "cell_type": "code",
   "execution_count": 59,
   "metadata": {
    "ExecuteTime": {
     "end_time": "2019-07-22T11:22:36.436508Z",
     "start_time": "2019-07-22T11:22:36.434627Z"
    }
   },
   "outputs": [],
   "source": [
    "# for key, value in testcases.items():\n",
    "#     print(\"key: {}, value: {}\".format(key, value))\n",
    "    "
   ]
  },
  {
   "cell_type": "code",
   "execution_count": 60,
   "metadata": {
    "ExecuteTime": {
     "end_time": "2019-07-22T11:22:36.440545Z",
     "start_time": "2019-07-22T11:22:36.438655Z"
    }
   },
   "outputs": [],
   "source": [
    "# for index,key in enumerate(testcases.keys()):\n",
    "#     print(\"index: {}, key: {}\".format(index, key))\n",
    "    "
   ]
  },
  {
   "cell_type": "code",
   "execution_count": 61,
   "metadata": {
    "ExecuteTime": {
     "end_time": "2019-07-22T11:22:36.444336Z",
     "start_time": "2019-07-22T11:22:36.442360Z"
    }
   },
   "outputs": [],
   "source": [
    "# for index, [key, value] in enumerate(testcases.items()):\n",
    "#     print(\"index: {}, key: {}, vaule: {}\".format(index, key, value))"
   ]
  },
  {
   "cell_type": "code",
   "execution_count": 62,
   "metadata": {
    "ExecuteTime": {
     "end_time": "2019-07-22T11:22:36.447728Z",
     "start_time": "2019-07-22T11:22:36.445722Z"
    }
   },
   "outputs": [],
   "source": [
    "# def testing():\n",
    "#     for index,[key,value] in enumerate(testcases.items()):\n",
    "#         A = Solution()\n",
    "#         A.twoSum(key)\n",
    "#         if A.reverse(key) != testcases[key]:\n",
    "#             print(\"Testcase {}: Test failed.\\n -> input: {}, output: {}\\n -> Your answer: {}\".format(index, key, value, A.reverse(key)))\n",
    "#         else:\n",
    "#             print(\"Testcase {}: Test passed.\".format(index))\n"
   ]
  },
  {
   "cell_type": "markdown",
   "metadata": {},
   "source": [
    "# run test"
   ]
  },
  {
   "cell_type": "code",
   "execution_count": 63,
   "metadata": {
    "ExecuteTime": {
     "end_time": "2019-07-22T11:22:36.452336Z",
     "start_time": "2019-07-22T11:22:36.449117Z"
    }
   },
   "outputs": [
    {
     "name": "stdout",
     "output_type": "stream",
     "text": [
      "Testcase 0: Test passed.\n",
      "Testcase 1: Test passed.\n",
      "Testcase 2: Test passed.\n"
     ]
    }
   ],
   "source": [
    "testcases_testing()"
   ]
  },
  {
   "cell_type": "code",
   "execution_count": 64,
   "metadata": {
    "ExecuteTime": {
     "end_time": "2019-07-22T11:22:36.456296Z",
     "start_time": "2019-07-22T11:22:36.454225Z"
    }
   },
   "outputs": [],
   "source": [
    "# testcases[0].testing()\n",
    "# testcases[1].testing()\n",
    "# testcases[2].testing()"
   ]
  },
  {
   "cell_type": "code",
   "execution_count": 65,
   "metadata": {
    "ExecuteTime": {
     "end_time": "2019-07-22T11:22:36.464018Z",
     "start_time": "2019-07-22T11:22:36.458404Z"
    }
   },
   "outputs": [
    {
     "name": "stdout",
     "output_type": "stream",
     "text": [
      "[3, 2, 4]\n",
      "6\n",
      "[1, 2]\n",
      "[3, 3]\n",
      "6\n",
      "[0, 1]\n",
      "[3, 2, 4]\n",
      "6\n",
      "[1, 2]\n"
     ]
    }
   ],
   "source": [
    "print(testcases[0].nums)\n",
    "print(testcases[0].target)\n",
    "print(testcases[0].answer)\n",
    "\n",
    "print(testcases[1].nums)\n",
    "print(testcases[1].target)\n",
    "print(testcases[1].answer)\n",
    "\n",
    "print(testcases[2].nums)\n",
    "print(testcases[2].target)\n",
    "print(testcases[2].answer)"
   ]
  },
  {
   "cell_type": "code",
   "execution_count": null,
   "metadata": {},
   "outputs": [],
   "source": []
  },
  {
   "cell_type": "code",
   "execution_count": null,
   "metadata": {},
   "outputs": [],
   "source": []
  },
  {
   "cell_type": "code",
   "execution_count": null,
   "metadata": {},
   "outputs": [],
   "source": []
  },
  {
   "cell_type": "markdown",
   "metadata": {},
   "source": [
    "# reference answer"
   ]
  },
  {
   "cell_type": "code",
   "execution_count": null,
   "metadata": {
    "ExecuteTime": {
     "end_time": "2019-07-14T07:43:28.878590Z",
     "start_time": "2019-07-14T07:43:28.874147Z"
    }
   },
   "outputs": [],
   "source": []
  },
  {
   "cell_type": "code",
   "execution_count": null,
   "metadata": {},
   "outputs": [],
   "source": []
  },
  {
   "cell_type": "code",
   "execution_count": null,
   "metadata": {},
   "outputs": [],
   "source": []
  },
  {
   "cell_type": "code",
   "execution_count": null,
   "metadata": {},
   "outputs": [],
   "source": []
  },
  {
   "cell_type": "code",
   "execution_count": null,
   "metadata": {},
   "outputs": [],
   "source": []
  },
  {
   "cell_type": "code",
   "execution_count": null,
   "metadata": {},
   "outputs": [],
   "source": []
  },
  {
   "cell_type": "code",
   "execution_count": null,
   "metadata": {},
   "outputs": [],
   "source": []
  }
 ],
 "metadata": {
  "kernelspec": {
   "display_name": "Python 3",
   "language": "python",
   "name": "python3"
  },
  "language_info": {
   "codemirror_mode": {
    "name": "ipython",
    "version": 3
   },
   "file_extension": ".py",
   "mimetype": "text/x-python",
   "name": "python",
   "nbconvert_exporter": "python",
   "pygments_lexer": "ipython3",
   "version": "3.7.3"
  },
  "varInspector": {
   "cols": {
    "lenName": 16,
    "lenType": 16,
    "lenVar": 40
   },
   "kernels_config": {
    "python": {
     "delete_cmd_postfix": "",
     "delete_cmd_prefix": "del ",
     "library": "var_list.py",
     "varRefreshCmd": "print(var_dic_list())"
    },
    "r": {
     "delete_cmd_postfix": ") ",
     "delete_cmd_prefix": "rm(",
     "library": "var_list.r",
     "varRefreshCmd": "cat(var_dic_list()) "
    }
   },
   "types_to_exclude": [
    "module",
    "function",
    "builtin_function_or_method",
    "instance",
    "_Feature"
   ],
   "window_display": false
  }
 },
 "nbformat": 4,
 "nbformat_minor": 2
}
