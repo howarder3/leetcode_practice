{
 "cells": [
  {
   "cell_type": "markdown",
   "metadata": {},
   "source": [
    "# dict version"
   ]
  },
  {
   "cell_type": "code",
   "execution_count": 8,
   "metadata": {
    "ExecuteTime": {
     "end_time": "2019-07-21T09:04:22.605125Z",
     "start_time": "2019-07-21T09:04:22.600672Z"
    }
   },
   "outputs": [],
   "source": [
    "testcases = {}\n",
    "\n",
    "in_ = \"a\"\n",
    "out_ = \"test1\"\n",
    "testcases[in_] = out_\n",
    "\n",
    "in_ = \"b\"\n",
    "out_ = \"test2\"\n",
    "testcases[in_] = out_\n",
    "\n",
    "in_ = \"c\"\n",
    "out_ = \"test3\"\n",
    "testcases[in_] = out_\n",
    "\n",
    "in_ = \"d\"\n",
    "out_ = \"test4\"\n",
    "testcases[in_] = out_\n",
    "\n",
    "in_ = \"e\"\n",
    "out_ = \"test5\"\n",
    "testcases[in_] = out_\n"
   ]
  },
  {
   "cell_type": "code",
   "execution_count": 9,
   "metadata": {
    "ExecuteTime": {
     "end_time": "2019-07-21T09:04:26.638255Z",
     "start_time": "2019-07-21T09:04:26.633803Z"
    }
   },
   "outputs": [
    {
     "name": "stdout",
     "output_type": "stream",
     "text": [
      "a: test1\n",
      "b: test2\n",
      "c: test3\n",
      "d: test4\n",
      "e: test5\n"
     ]
    }
   ],
   "source": [
    "for key, value in testcases.items():\n",
    "    print(\"{}: {}\".format(key, value))\n",
    "    \n",
    "   "
   ]
  },
  {
   "cell_type": "code",
   "execution_count": null,
   "metadata": {},
   "outputs": [],
   "source": [
    "def testing():\n",
    "    for key in len(testcases):\n",
    "        if out != testcases[key]print\n",
    "        Return failed"
   ]
  },
  {
   "cell_type": "markdown",
   "metadata": {},
   "source": [
    "# list version"
   ]
  },
  {
   "cell_type": "code",
   "execution_count": null,
   "metadata": {},
   "outputs": [],
   "source": [
    "\n",
    "Def add_to_testcase\n",
    "\n",
    "testcases = []\n",
    "\n",
    "in\n",
    "Out\n",
    "Add_to_testcase (in, out, testcases)\n",
    "\n"
   ]
  },
  {
   "cell_type": "code",
   "execution_count": null,
   "metadata": {},
   "outputs": [],
   "source": []
  },
  {
   "cell_type": "code",
   "execution_count": null,
   "metadata": {},
   "outputs": [],
   "source": []
  },
  {
   "cell_type": "code",
   "execution_count": null,
   "metadata": {},
   "outputs": [],
   "source": []
  },
  {
   "cell_type": "code",
   "execution_count": null,
   "metadata": {},
   "outputs": [],
   "source": []
  },
  {
   "cell_type": "code",
   "execution_count": null,
   "metadata": {},
   "outputs": [],
   "source": []
  },
  {
   "cell_type": "code",
   "execution_count": null,
   "metadata": {},
   "outputs": [],
   "source": []
  }
 ],
 "metadata": {
  "kernelspec": {
   "display_name": "Python 3",
   "language": "python",
   "name": "python3"
  },
  "language_info": {
   "codemirror_mode": {
    "name": "ipython",
    "version": 3
   },
   "file_extension": ".py",
   "mimetype": "text/x-python",
   "name": "python",
   "nbconvert_exporter": "python",
   "pygments_lexer": "ipython3",
   "version": "3.7.3"
  },
  "varInspector": {
   "cols": {
    "lenName": 16,
    "lenType": 16,
    "lenVar": 40
   },
   "kernels_config": {
    "python": {
     "delete_cmd_postfix": "",
     "delete_cmd_prefix": "del ",
     "library": "var_list.py",
     "varRefreshCmd": "print(var_dic_list())"
    },
    "r": {
     "delete_cmd_postfix": ") ",
     "delete_cmd_prefix": "rm(",
     "library": "var_list.r",
     "varRefreshCmd": "cat(var_dic_list()) "
    }
   },
   "types_to_exclude": [
    "module",
    "function",
    "builtin_function_or_method",
    "instance",
    "_Feature"
   ],
   "window_display": false
  }
 },
 "nbformat": 4,
 "nbformat_minor": 2
}
