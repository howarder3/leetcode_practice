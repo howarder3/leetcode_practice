{
 "cells": [
  {
   "cell_type": "markdown",
   "metadata": {},
   "source": [
    "# Question\n",
    "https://leetcode.com/problems/reverse-integer/"
   ]
  },
  {
   "cell_type": "markdown",
   "metadata": {},
   "source": [
    "# testcase"
   ]
  },
  {
   "cell_type": "code",
   "execution_count": 1,
   "metadata": {
    "ExecuteTime": {
     "end_time": "2019-07-21T11:34:12.498035Z",
     "start_time": "2019-07-21T11:34:12.488621Z"
    }
   },
   "outputs": [],
   "source": [
    "testcases = {}\n",
    "\n",
    "in_ = 123\n",
    "out_ = 321\n",
    "testcases[in_] = out_\n",
    "\n",
    "in_ = -123\n",
    "out_ = -321\n",
    "testcases[in_] = out_\n",
    "\n",
    "in_ = 120\n",
    "out_ = 210\n",
    "testcases[in_] = out_\n",
    "\n",
    "in_ = 1534236469\n",
    "out_ = 0  # (integer range: [−2^31, 2^31 − 1].)\n",
    "testcases[in_] = out_\n"
   ]
  },
  {
   "cell_type": "code",
   "execution_count": 2,
   "metadata": {
    "ExecuteTime": {
     "end_time": "2019-07-21T11:34:12.505856Z",
     "start_time": "2019-07-21T11:34:12.500999Z"
    }
   },
   "outputs": [],
   "source": [
    "def testing():\n",
    "    for index,[key,value] in enumerate(testcases.items()):\n",
    "        A = Solution()\n",
    "        if A.reverse(key) != testcases[key]:\n",
    "            print(\"Testcase {}: Test failed.\\n -> input: {}, output: {}\\n -> Your answer: {}\".format(index, key, value, A.reverse(key)))\n",
    "        else:\n",
    "            print(\"Testcase {}: Test passed.\".format(index))"
   ]
  },
  {
   "cell_type": "markdown",
   "metadata": {},
   "source": [
    "# solution practice"
   ]
  },
  {
   "cell_type": "code",
   "execution_count": 3,
   "metadata": {
    "ExecuteTime": {
     "end_time": "2019-07-21T11:34:12.513283Z",
     "start_time": "2019-07-21T11:34:12.507496Z"
    }
   },
   "outputs": [],
   "source": [
    "class Solution:\n",
    "    def out_of_range(self, x):\n",
    "        limit = pow(2,31)\n",
    "#         print(limit)\n",
    "        if x >= limit - 1:\n",
    "            return 0\n",
    "        elif x <= -limit:\n",
    "            return 0\n",
    "        else:\n",
    "            return x\n",
    "        \n",
    "    def reverse(self, x):\n",
    "        \"\"\"\n",
    "        :type x: int\n",
    "        :rtype: int \n",
    "        \"\"\"\n",
    "        if self.out_of_range(x) == 0:\n",
    "            return 0\n",
    "        elif x >= 0:\n",
    "            return self.out_of_range(int(str(x)[::-1]))\n",
    "        else:\n",
    "            return self.out_of_range(-int(str(-x)[::-1]))"
   ]
  },
  {
   "cell_type": "markdown",
   "metadata": {},
   "source": [
    "# run test"
   ]
  },
  {
   "cell_type": "code",
   "execution_count": 4,
   "metadata": {
    "ExecuteTime": {
     "end_time": "2019-07-21T11:34:12.518864Z",
     "start_time": "2019-07-21T11:34:12.515254Z"
    }
   },
   "outputs": [
    {
     "name": "stdout",
     "output_type": "stream",
     "text": [
      "Testcase 0: Test passed.\n",
      "Testcase 1: Test passed.\n",
      "Testcase 2: Test failed.\n",
      " -> input: 120, output: 210\n",
      " -> Your answer: 21\n",
      "Testcase 3: Test passed.\n"
     ]
    }
   ],
   "source": [
    "testing()"
   ]
  },
  {
   "cell_type": "code",
   "execution_count": null,
   "metadata": {
    "ExecuteTime": {
     "end_time": "2019-07-21T11:19:28.909039Z",
     "start_time": "2019-07-21T11:19:28.903866Z"
    }
   },
   "outputs": [],
   "source": []
  },
  {
   "cell_type": "code",
   "execution_count": null,
   "metadata": {
    "ExecuteTime": {
     "end_time": "2019-07-14T07:43:28.872462Z",
     "start_time": "2019-07-14T07:43:28.867919Z"
    }
   },
   "outputs": [],
   "source": []
  },
  {
   "cell_type": "code",
   "execution_count": null,
   "metadata": {},
   "outputs": [],
   "source": []
  },
  {
   "cell_type": "code",
   "execution_count": null,
   "metadata": {},
   "outputs": [],
   "source": []
  },
  {
   "cell_type": "code",
   "execution_count": null,
   "metadata": {},
   "outputs": [],
   "source": []
  },
  {
   "cell_type": "markdown",
   "metadata": {},
   "source": [
    "# reference answer"
   ]
  },
  {
   "cell_type": "code",
   "execution_count": null,
   "metadata": {
    "ExecuteTime": {
     "end_time": "2019-07-14T07:43:28.878590Z",
     "start_time": "2019-07-14T07:43:28.874147Z"
    }
   },
   "outputs": [],
   "source": []
  },
  {
   "cell_type": "code",
   "execution_count": null,
   "metadata": {},
   "outputs": [],
   "source": []
  },
  {
   "cell_type": "code",
   "execution_count": null,
   "metadata": {},
   "outputs": [],
   "source": []
  },
  {
   "cell_type": "code",
   "execution_count": null,
   "metadata": {},
   "outputs": [],
   "source": []
  },
  {
   "cell_type": "code",
   "execution_count": null,
   "metadata": {},
   "outputs": [],
   "source": []
  },
  {
   "cell_type": "code",
   "execution_count": null,
   "metadata": {},
   "outputs": [],
   "source": []
  },
  {
   "cell_type": "code",
   "execution_count": null,
   "metadata": {},
   "outputs": [],
   "source": []
  }
 ],
 "metadata": {
  "kernelspec": {
   "display_name": "Python 3",
   "language": "python",
   "name": "python3"
  },
  "language_info": {
   "codemirror_mode": {
    "name": "ipython",
    "version": 3
   },
   "file_extension": ".py",
   "mimetype": "text/x-python",
   "name": "python",
   "nbconvert_exporter": "python",
   "pygments_lexer": "ipython3",
   "version": "3.7.3"
  },
  "varInspector": {
   "cols": {
    "lenName": 16,
    "lenType": 16,
    "lenVar": 40
   },
   "kernels_config": {
    "python": {
     "delete_cmd_postfix": "",
     "delete_cmd_prefix": "del ",
     "library": "var_list.py",
     "varRefreshCmd": "print(var_dic_list())"
    },
    "r": {
     "delete_cmd_postfix": ") ",
     "delete_cmd_prefix": "rm(",
     "library": "var_list.r",
     "varRefreshCmd": "cat(var_dic_list()) "
    }
   },
   "types_to_exclude": [
    "module",
    "function",
    "builtin_function_or_method",
    "instance",
    "_Feature"
   ],
   "window_display": false
  }
 },
 "nbformat": 4,
 "nbformat_minor": 2
}
