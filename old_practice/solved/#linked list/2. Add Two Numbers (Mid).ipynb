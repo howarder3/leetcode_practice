{
 "cells": [
  {
   "cell_type": "markdown",
   "metadata": {},
   "source": [
    "# Question"
   ]
  },
  {
   "cell_type": "markdown",
   "metadata": {},
   "source": [
    "https://leetcode.com/problems/add-two-numbers/"
   ]
  },
  {
   "cell_type": "markdown",
   "metadata": {},
   "source": [
    "# my solution"
   ]
  },
  {
   "cell_type": "code",
   "execution_count": 1,
   "metadata": {
    "ExecuteTime": {
     "end_time": "2019-07-25T14:58:33.056339Z",
     "start_time": "2019-07-25T14:58:33.053354Z"
    }
   },
   "outputs": [],
   "source": [
    "# Accepted\n",
    "\n",
    "# TODO: do you work here\n",
    "# Definition for singly-linked list.\n",
    "# class ListNode:\n",
    "#     def __init__(self, x):\n",
    "#         self.val = x\n",
    "#         self.next = None\n",
    "\n",
    "# Input: (2 -> 4 -> 3) + (5 -> 6 -> 4)\n",
    "# Output: 7 -> 0 -> 8\n",
    "# Explanation: 342 + 465 = 807.\n",
    "\n",
    "class Solution:\n",
    "    def addTwoNumbers(self, l1, l2):\n",
    "        \"\"\"\n",
    "        :type l1: ListNode\n",
    "        :type l2: ListNode\n",
    "        :rtype: ListNode\n",
    "        \"\"\"\n",
    "        # header\n",
    "        header_pointer = ListNode(0)\n",
    "        # point to same header\n",
    "        this_pointer = header_pointer\n",
    "        carry = 0\n",
    "        \n",
    "        while(True):\n",
    "            # check if can add\n",
    "            if (l1.val is not None) and (l2.val is not None):\n",
    "                this_val = l1.val + l2.val + this_pointer.val\n",
    "                carry = this_val // 10\n",
    "                this_pointer.val = this_val % 10\n",
    "                # print(this_val)\n",
    "                # print(next_ans.val)\n",
    "\n",
    "    \n",
    "                    \n",
    "                if (l1.next is not None) and (l2.next is not None): # if both exist\n",
    "                    l1 = l1.next\n",
    "                    l2 = l2.next\n",
    "                    if carry == 1:\n",
    "                        # init next ListNode\n",
    "                        this_pointer.next = ListNode(1) # if carry, init 1\n",
    "                    else:\n",
    "                        # init next ListNode\n",
    "                        this_pointer.next = ListNode(0) # if no carry, init 0\n",
    "                    # link and move to next ListNode\n",
    "                    this_pointer = this_pointer.next  \n",
    "                    \n",
    "                elif (l1.next is not None) and (l2.next is None):\n",
    "                    if carry == 0:\n",
    "                        this_pointer.next = l1.next\n",
    "                        return header_pointer\n",
    "                    elif carry == 1:\n",
    "                        this_pointer.next = l1.next\n",
    "                        # link and move to next ListNode\n",
    "                        # and check if >= 10\n",
    "                        while(True): \n",
    "                            if this_pointer.next:\n",
    "                                this_pointer = this_pointer.next \n",
    "                                this_pointer.val =  this_pointer.val +1\n",
    "                                if this_pointer.val >= 10:\n",
    "                                    this_pointer.val = this_pointer.val % 10\n",
    "                                else:\n",
    "                                    break\n",
    "                                \n",
    "                            else: # no next \n",
    "                                # init next ListNode\n",
    "                                this_pointer.next = ListNode(1) # if carry, init 1\n",
    "                                # link and move to next ListNode\n",
    "                                this_pointer = this_pointer.next\n",
    "                                return header_pointer\n",
    "\n",
    "                        return header_pointer\n",
    "                    \n",
    "                elif (l1.next is None) and (l2.next is not None):\n",
    "                    if carry == 0:\n",
    "                        this_pointer.next = l2.next\n",
    "                        return header_pointer\n",
    "                    elif carry == 1:\n",
    "                        this_pointer.next = l2.next\n",
    "                        # link and move to next ListNode\n",
    "                        # and check if >= 10\n",
    "                        while(True): \n",
    "                            if this_pointer.next:\n",
    "                                this_pointer = this_pointer.next \n",
    "                                this_pointer.val =  this_pointer.val +1\n",
    "                                if this_pointer.val >= 10:\n",
    "                                    this_pointer.val = this_pointer.val % 10\n",
    "                                else:\n",
    "                                    break\n",
    "                                \n",
    "                            else: # no next \n",
    "                                # init next ListNode\n",
    "                                this_pointer.next = ListNode(1) # if carry, init 1\n",
    "                                # link and move to next ListNode\n",
    "                                this_pointer = this_pointer.next\n",
    "                                return header_pointer\n",
    "\n",
    "                        return header_pointer\n",
    "                    \n",
    "                else: # both is None\n",
    "                    if carry == 0:\n",
    "                        return header_pointer\n",
    "                    elif carry == 1:\n",
    "                        # init next ListNode\n",
    "                        this_pointer.next = ListNode(1) # if carry, init 1\n",
    "                        # link and move to next ListNode\n",
    "                        this_pointer = this_pointer.next\n",
    "                        return header_pointer\n",
    "            \n",
    "        return header_pointer\n",
    "        \n",
    "                    \n"
   ]
  },
  {
   "cell_type": "code",
   "execution_count": null,
   "metadata": {},
   "outputs": [],
   "source": [
    "# Accepted\n",
    "\n",
    "class Solution:\n",
    "    def addTwoNumbers(self, l1, l2):\n",
    "        \"\"\"\n",
    "        :type l1: ListNode\n",
    "        :type l2: ListNode\n",
    "        :rtype: ListNode\n",
    "        \"\"\"\n",
    "        header_pointer = temp_pointer = ListNode(0)\n",
    "        carry = 0\n",
    "        while (l1 or l2 or carry): # still have value\n",
    "            # next ListNode\n",
    "            temp_pointer.next = ListNode(carry)\n",
    "            temp_pointer = temp_pointer.next\n",
    "            \n",
    "            v1 = v2 = 0\n",
    "            if l1: \n",
    "                v1 = l1.val\n",
    "                l1 = l1.next\n",
    "            if l2:\n",
    "                v2 = l2.val\n",
    "                l2 = l2.next\n",
    "                \n",
    "            temp_pointer.val = (v1+v2+carry) % 10\n",
    "            carry = (v1+v2+carry) // 10\n",
    "            \n",
    "        return header_pointer.next\n",
    "        "
   ]
  },
  {
   "cell_type": "code",
   "execution_count": null,
   "metadata": {},
   "outputs": [],
   "source": [
    "# Accepted\n",
    "\n",
    "class Solution:\n",
    "    def addTwoNumbers(self, l1, l2):\n",
    "        \"\"\"\n",
    "        :type l1: ListNode\n",
    "        :type l2: ListNode\n",
    "        :rtype: ListNode\n",
    "        \"\"\"\n",
    "        header_pointer = temp_pointer = ListNode(0)\n",
    "        carry = 0\n",
    "        while (l1 or l2 or carry): # still have value\n",
    "            v1 = v2 = 0\n",
    "            if l1: \n",
    "                v1 = l1.val\n",
    "                l1 = l1.next\n",
    "            if l2:\n",
    "                v2 = l2.val\n",
    "                l2 = l2.next\n",
    "                \n",
    "#             value = (v1+v2+carry) % 10\n",
    "#             carry = (v1+v2+carry) // 10\n",
    "            \n",
    "            carry, value = divmod((v1+v2+carry),10) # carry, value(carry-10)\n",
    "            \n",
    "            # next ListNode\n",
    "            temp_pointer.next = ListNode(value) # store by init next ListNode\n",
    "            temp_pointer = temp_pointer.next\n",
    "            \n",
    "        return header_pointer.next\n",
    "        "
   ]
  },
  {
   "cell_type": "code",
   "execution_count": null,
   "metadata": {},
   "outputs": [],
   "source": []
  },
  {
   "cell_type": "code",
   "execution_count": null,
   "metadata": {},
   "outputs": [],
   "source": []
  },
  {
   "cell_type": "markdown",
   "metadata": {},
   "source": [
    "# reference solution"
   ]
  },
  {
   "cell_type": "code",
   "execution_count": null,
   "metadata": {},
   "outputs": [],
   "source": [
    "class Solution:\n",
    "# @return a ListNode\n",
    "    def addTwoNumbers(self, l1, l2):\n",
    "        carry = 0\n",
    "        root = n = ListNode(0)\n",
    "        while l1 or l2 or carry:\n",
    "            v1 = v2 = 0\n",
    "            if l1:\n",
    "                v1 = l1.val\n",
    "                l1 = l1.next\n",
    "            if l2:\n",
    "                v2 = l2.val\n",
    "                l2 = l2.next\n",
    "            carry, val = divmod(v1+v2+carry, 10)\n",
    "            n.next = ListNode(val) # put value in next Node\n",
    "            n = n.next\n",
    "        return root.next"
   ]
  },
  {
   "cell_type": "code",
   "execution_count": null,
   "metadata": {},
   "outputs": [],
   "source": []
  },
  {
   "cell_type": "markdown",
   "metadata": {},
   "source": [
    "# define testcase function"
   ]
  },
  {
   "cell_type": "code",
   "execution_count": null,
   "metadata": {
    "ExecuteTime": {
     "end_time": "2019-07-24T19:18:37.910142Z",
     "start_time": "2019-07-24T19:18:37.906021Z"
    }
   },
   "outputs": [],
   "source": [
    "# TODO : setting your input\n",
    "class testcase_elements():\n",
    "    def __init__(self, nums, answer):\n",
    "        self.nums = nums\n",
    "        self.answer = answer \n",
    "        \n",
    "    def testing(self):\n",
    "        A = Solution()\n",
    "        # TODO : setting your solution output \n",
    "        our_result = A.threeSum(self.nums)\n",
    "        \n",
    "        if our_result != self.answer:\n",
    "            print(\"Test failed.\\n -> answer: {}\\n -> Your answer: {}\" \\\n",
    "                  .format(self.answer, our_result))\n",
    "        else:\n",
    "            print(\"Test passed.\")"
   ]
  },
  {
   "cell_type": "code",
   "execution_count": null,
   "metadata": {
    "ExecuteTime": {
     "end_time": "2019-07-24T19:18:37.916580Z",
     "start_time": "2019-07-24T19:18:37.913297Z"
    }
   },
   "outputs": [],
   "source": [
    "def testcases_testing():\n",
    "    for key in range(len(testcases)):\n",
    "        print(\"Testcase {}: \".format(key), end = \"\")\n",
    "        testcases[key].testing()"
   ]
  },
  {
   "cell_type": "markdown",
   "metadata": {},
   "source": [
    "# testcases"
   ]
  },
  {
   "cell_type": "code",
   "execution_count": null,
   "metadata": {
    "ExecuteTime": {
     "end_time": "2019-07-24T19:18:37.920728Z",
     "start_time": "2019-07-24T19:18:37.918354Z"
    }
   },
   "outputs": [],
   "source": [
    "testcases = []"
   ]
  },
  {
   "cell_type": "code",
   "execution_count": null,
   "metadata": {
    "ExecuteTime": {
     "end_time": "2019-07-24T19:18:37.925863Z",
     "start_time": "2019-07-24T19:18:37.922669Z"
    }
   },
   "outputs": [],
   "source": [
    "nums = [-1, 0, 1, 2, -1, -4]\n",
    "answer = [\n",
    "  [-1, 0, 1],\n",
    "  [-1, -1, 2]\n",
    "]\n",
    "\n",
    "testcases.append(testcase_elements(nums, answer))"
   ]
  },
  {
   "cell_type": "code",
   "execution_count": null,
   "metadata": {
    "ExecuteTime": {
     "end_time": "2019-07-24T19:18:37.929767Z",
     "start_time": "2019-07-24T19:18:37.927167Z"
    }
   },
   "outputs": [],
   "source": [
    "nums = [0,0]\n",
    "answer = []\n",
    "\n",
    "testcases.append(testcase_elements(nums, answer))"
   ]
  },
  {
   "cell_type": "code",
   "execution_count": null,
   "metadata": {
    "ExecuteTime": {
     "end_time": "2019-07-24T19:18:37.933782Z",
     "start_time": "2019-07-24T19:18:37.931198Z"
    }
   },
   "outputs": [],
   "source": [
    "nums = [0,-1,1]\n",
    "answer = [[-1,0,1]]\n",
    "\n",
    "testcases.append(testcase_elements(nums, answer))"
   ]
  },
  {
   "cell_type": "markdown",
   "metadata": {},
   "source": [
    "# run test"
   ]
  },
  {
   "cell_type": "code",
   "execution_count": null,
   "metadata": {
    "ExecuteTime": {
     "end_time": "2019-07-24T19:18:38.025045Z",
     "start_time": "2019-07-24T19:18:37.935909Z"
    }
   },
   "outputs": [],
   "source": [
    "testcases_testing()"
   ]
  }
 ],
 "metadata": {
  "kernelspec": {
   "display_name": "Python 3",
   "language": "python",
   "name": "python3"
  },
  "language_info": {
   "codemirror_mode": {
    "name": "ipython",
    "version": 3
   },
   "file_extension": ".py",
   "mimetype": "text/x-python",
   "name": "python",
   "nbconvert_exporter": "python",
   "pygments_lexer": "ipython3",
   "version": "3.7.3"
  },
  "varInspector": {
   "cols": {
    "lenName": 16,
    "lenType": 16,
    "lenVar": 40
   },
   "kernels_config": {
    "python": {
     "delete_cmd_postfix": "",
     "delete_cmd_prefix": "del ",
     "library": "var_list.py",
     "varRefreshCmd": "print(var_dic_list())"
    },
    "r": {
     "delete_cmd_postfix": ") ",
     "delete_cmd_prefix": "rm(",
     "library": "var_list.r",
     "varRefreshCmd": "cat(var_dic_list()) "
    }
   },
   "types_to_exclude": [
    "module",
    "function",
    "builtin_function_or_method",
    "instance",
    "_Feature"
   ],
   "window_display": false
  }
 },
 "nbformat": 4,
 "nbformat_minor": 2
}
