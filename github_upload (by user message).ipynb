{
 "cells": [
  {
   "cell_type": "markdown",
   "metadata": {
    "collapsed": true
   },
   "source": [
    "# github 上傳 (自定義上傳訊息)"
   ]
  },
  {
   "cell_type": "code",
   "execution_count": 1,
   "metadata": {
    "ExecuteTime": {
     "end_time": "2019-07-22T11:34:14.139636Z",
     "start_time": "2019-07-22T11:33:22.832352Z"
    }
   },
   "outputs": [
    {
     "name": "stdout",
     "output_type": "stream",
     "text": [
      "[master 602783d] update answer sheet\n",
      " 23 files changed, 5359 insertions(+), 80 deletions(-)\n",
      " rename .ipynb_checkpoints/{github_upload-checkpoint.ipynb => github_upload (by time stamp)-checkpoint.ipynb} (71%)\n",
      " rename github_upload.ipynb => .ipynb_checkpoints/github_upload (by user message)-checkpoint.ipynb (70%)\n",
      " create mode 100644 github_upload (by time stamp).ipynb\n",
      " create mode 100644 github_upload (by user message).ipynb\n",
      " create mode 100644 problems/!_Template_answer_sheet_v3.ipynb\n",
      " create mode 100644 problems/.ipynb_checkpoints/!_Template_answer_sheet_v3-checkpoint.ipynb\n",
      " create mode 100644 problems/test code/!_Template_answer_sheet_v1.ipynb\n",
      " create mode 100644 problems/test code/!_Template_answer_sheet_v2.ipynb\n",
      " create mode 100644 problems/test code/.ipynb_checkpoints/!_Template_answer_sheet_v1-checkpoint.ipynb\n",
      " create mode 100644 problems/test code/.ipynb_checkpoints/!_Template_answer_sheet_v2-checkpoint.ipynb\n",
      " create mode 100644 problems/test code/.ipynb_checkpoints/1. Two Sum (with testcase)-checkpoint.ipynb\n",
      " create mode 100644 problems/test code/.ipynb_checkpoints/Test_testcase -checkpoint.ipynb\n",
      " create mode 100644 problems/test code/.ipynb_checkpoints/Test_testcase_solve_1-checkpoint.ipynb\n",
      " create mode 100644 problems/test code/.ipynb_checkpoints/Test_testcase_solve_7-checkpoint.ipynb\n",
      " create mode 100644 problems/test code/1. Two Sum (with testcase).ipynb\n",
      " create mode 100644 problems/test code/Test_testcase .ipynb\n",
      " create mode 100644 problems/test code/Test_testcase_solve_1.ipynb\n",
      " create mode 100644 problems/test code/Test_testcase_solve_7.ipynb\n"
     ]
    },
    {
     "name": "stderr",
     "output_type": "stream",
     "text": [
      "To https://github.com/howarder3/leetcode_practice.git\n",
      "   f3a1517..602783d  master -> master\n"
     ]
    }
   ],
   "source": [
    "%%bash\n",
    "\n",
    "git add .\n",
    "git commit -m \"update answer sheet v4\" \n",
    "git push origin master"
   ]
  },
  {
   "cell_type": "markdown",
   "metadata": {},
   "source": [
    "### 測試用，不用跑\n",
    "%%bash\n",
    "\n",
    "date +\"%Y-%m-%d %H:%M:%S\""
   ]
  },
  {
   "cell_type": "code",
   "execution_count": null,
   "metadata": {},
   "outputs": [],
   "source": []
  }
 ],
 "metadata": {
  "kernelspec": {
   "display_name": "Python 3",
   "language": "python",
   "name": "python3"
  },
  "language_info": {
   "codemirror_mode": {
    "name": "ipython",
    "version": 3
   },
   "file_extension": ".py",
   "mimetype": "text/x-python",
   "name": "python",
   "nbconvert_exporter": "python",
   "pygments_lexer": "ipython3",
   "version": "3.7.3"
  },
  "varInspector": {
   "cols": {
    "lenName": 16,
    "lenType": 16,
    "lenVar": 40
   },
   "kernels_config": {
    "python": {
     "delete_cmd_postfix": "",
     "delete_cmd_prefix": "del ",
     "library": "var_list.py",
     "varRefreshCmd": "print(var_dic_list())"
    },
    "r": {
     "delete_cmd_postfix": ") ",
     "delete_cmd_prefix": "rm(",
     "library": "var_list.r",
     "varRefreshCmd": "cat(var_dic_list()) "
    }
   },
   "types_to_exclude": [
    "module",
    "function",
    "builtin_function_or_method",
    "instance",
    "_Feature"
   ],
   "window_display": false
  }
 },
 "nbformat": 4,
 "nbformat_minor": 2
}
