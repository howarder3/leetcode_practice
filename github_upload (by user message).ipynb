{
 "cells": [
  {
   "cell_type": "markdown",
   "metadata": {
    "collapsed": true
   },
   "source": [
    "# github 上傳 (自定義上傳訊息)"
   ]
  },
  {
   "cell_type": "code",
   "execution_count": 1,
   "metadata": {
    "ExecuteTime": {
     "end_time": "2019-07-24T19:22:55.299757Z",
     "start_time": "2019-07-24T19:22:51.011136Z"
    }
   },
   "outputs": [
    {
     "name": "stdout",
     "output_type": "stream",
     "text": [
      "[master a83bfe9] update answer sheet v5 & question 15\n",
      " 16 files changed, 1238 insertions(+), 18 deletions(-)\n",
      " create mode 100644 problems/!_Template_answer_sheet_v5 (copy this).ipynb\n",
      " create mode 100644 problems/.ipynb_checkpoints/!_Template_answer_sheet_v5 (copy this)-checkpoint.ipynb\n",
      " rename problems/.ipynb_checkpoints/{1. Two Sum-checkpoint.ipynb => 1. Two Sum (Easy)-checkpoint.ipynb} (100%)\n",
      " rename problems/.ipynb_checkpoints/{14. Longest Common Prefix-checkpoint.ipynb => 14. Longest Common Prefix (Easy)-checkpoint.ipynb} (100%)\n",
      " create mode 100644 problems/.ipynb_checkpoints/15. 3Sum (Mid)-checkpoint.ipynb\n",
      " rename problems/.ipynb_checkpoints/{7. Reverse Integer-checkpoint.ipynb => 7. Reverse Integer (Easy)-checkpoint.ipynb} (100%)\n",
      " rename problems/.ipynb_checkpoints/{9. Palindrome Number-checkpoint.ipynb => 9. Palindrome Number (Easy)-checkpoint.ipynb} (100%)\n",
      " rename problems/{1. Two Sum.ipynb => 1. Two Sum (Easy).ipynb} (100%)\n",
      " rename problems/{14. Longest Common Prefix.ipynb => 14. Longest Common Prefix (Easy).ipynb} (100%)\n",
      " create mode 100644 problems/15. 3Sum (Mid).ipynb\n",
      " rename problems/{7. Reverse Integer.ipynb => 7. Reverse Integer (Easy).ipynb} (100%)\n",
      " rename problems/{9. Palindrome Number.ipynb => 9. Palindrome Number (Easy).ipynb} (100%)\n",
      " rename problems/{ => test code}/!_Template_answer_sheet_v4 (copy this).ipynb (98%)\n",
      " rename problems/{ => test code}/.ipynb_checkpoints/!_Template_answer_sheet_v4 (copy this)-checkpoint.ipynb (98%)\n"
     ]
    },
    {
     "name": "stderr",
     "output_type": "stream",
     "text": [
      "To https://github.com/howarder3/leetcode_practice.git\n",
      "   492794e..a83bfe9  master -> master\n"
     ]
    }
   ],
   "source": [
    "%%bash\n",
    "\n",
    "git add .\n",
    "git commit -m \"update answer sheet v5 & question 15\" \n",
    "git push origin master"
   ]
  },
  {
   "cell_type": "code",
   "execution_count": null,
   "metadata": {},
   "outputs": [],
   "source": []
  }
 ],
 "metadata": {
  "kernelspec": {
   "display_name": "Python 3",
   "language": "python",
   "name": "python3"
  },
  "language_info": {
   "codemirror_mode": {
    "name": "ipython",
    "version": 3
   },
   "file_extension": ".py",
   "mimetype": "text/x-python",
   "name": "python",
   "nbconvert_exporter": "python",
   "pygments_lexer": "ipython3",
   "version": "3.7.3"
  },
  "varInspector": {
   "cols": {
    "lenName": 16,
    "lenType": 16,
    "lenVar": 40
   },
   "kernels_config": {
    "python": {
     "delete_cmd_postfix": "",
     "delete_cmd_prefix": "del ",
     "library": "var_list.py",
     "varRefreshCmd": "print(var_dic_list())"
    },
    "r": {
     "delete_cmd_postfix": ") ",
     "delete_cmd_prefix": "rm(",
     "library": "var_list.r",
     "varRefreshCmd": "cat(var_dic_list()) "
    }
   },
   "types_to_exclude": [
    "module",
    "function",
    "builtin_function_or_method",
    "instance",
    "_Feature"
   ],
   "window_display": false
  }
 },
 "nbformat": 4,
 "nbformat_minor": 2
}
