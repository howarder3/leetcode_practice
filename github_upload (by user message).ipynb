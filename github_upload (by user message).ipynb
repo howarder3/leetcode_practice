{
 "cells": [
  {
   "cell_type": "markdown",
   "metadata": {
    "collapsed": true
   },
   "source": [
    "# github 上傳 (自定義上傳訊息)"
   ]
  },
  {
   "cell_type": "code",
   "execution_count": 4,
   "metadata": {
    "ExecuteTime": {
     "end_time": "2019-07-25T19:36:37.585792Z",
     "start_time": "2019-07-25T19:36:33.473948Z"
    }
   },
   "outputs": [
    {
     "name": "stdout",
     "output_type": "stream",
     "text": [
      "[master d110eaa] solving Q200 (Mid)\n",
      " 9 files changed, 1373 insertions(+), 9 deletions(-)\n",
      " create mode 100644 problems/!_Template_answer_sheet_v5 (backup).ipynb\n",
      " mode change 100644 => 100755 problems/!_Template_answer_sheet_v5 (copy this).ipynb\n",
      " create mode 100644 problems/.DS_Store\n",
      " create mode 100644 problems/.ipynb_checkpoints/!_Template_answer_sheet_v5 (backup)-checkpoint.ipynb\n",
      " mode change 100644 => 100755 problems/.ipynb_checkpoints/!_Template_answer_sheet_v5 (copy this)-checkpoint.ipynb\n",
      " create mode 100644 problems/.ipynb_checkpoints/200. Number of Islands (Mid)-checkpoint.ipynb\n",
      " create mode 100644 problems/200. Number of Islands (Mid).ipynb\n"
     ]
    },
    {
     "name": "stderr",
     "output_type": "stream",
     "text": [
      "To https://github.com/howarder3/leetcode_practice.git\n",
      "   42207c1..d110eaa  master -> master\n"
     ]
    }
   ],
   "source": [
    "%%bash\n",
    "\n",
    "git add .\n",
    "git commit -m \"solving Q200 (Mid)\" \n",
    "git push origin master"
   ]
  },
  {
   "cell_type": "code",
   "execution_count": null,
   "metadata": {},
   "outputs": [],
   "source": []
  }
 ],
 "metadata": {
  "kernelspec": {
   "display_name": "Python 3",
   "language": "python",
   "name": "python3"
  },
  "language_info": {
   "codemirror_mode": {
    "name": "ipython",
    "version": 3
   },
   "file_extension": ".py",
   "mimetype": "text/x-python",
   "name": "python",
   "nbconvert_exporter": "python",
   "pygments_lexer": "ipython3",
   "version": "3.7.3"
  },
  "varInspector": {
   "cols": {
    "lenName": 16,
    "lenType": 16,
    "lenVar": 40
   },
   "kernels_config": {
    "python": {
     "delete_cmd_postfix": "",
     "delete_cmd_prefix": "del ",
     "library": "var_list.py",
     "varRefreshCmd": "print(var_dic_list())"
    },
    "r": {
     "delete_cmd_postfix": ") ",
     "delete_cmd_prefix": "rm(",
     "library": "var_list.r",
     "varRefreshCmd": "cat(var_dic_list()) "
    }
   },
   "types_to_exclude": [
    "module",
    "function",
    "builtin_function_or_method",
    "instance",
    "_Feature"
   ],
   "window_display": false
  }
 },
 "nbformat": 4,
 "nbformat_minor": 2
}
